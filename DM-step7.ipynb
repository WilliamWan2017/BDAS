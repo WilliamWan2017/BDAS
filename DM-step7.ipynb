{
 "cells": [
  {
   "cell_type": "code",
   "execution_count": 1,
   "metadata": {},
   "outputs": [],
   "source": [
    "import findspark\n",
    "findspark.init('/home/ubuntu/spark-2.1.1-bin-hadoop2.7')\n",
    "import pyspark\n",
    "from pyspark.sql import SparkSession\n",
    "from pyspark.sql.functions import exp\n",
    "from pyspark.sql.functions import max,sum,count\n",
    "from pyspark.ml.classification import LogisticRegression  \n",
    "import matplotlib.pyplot as plt\n",
    "import numpy as np\n",
    "spark = SparkSession.builder.appName('Bank Telephone Marketing Analysis').getOrCreate() "
   ]
  },
  {
   "cell_type": "code",
   "execution_count": 2,
   "metadata": {},
   "outputs": [],
   "source": [
    "df = spark.read.csv(\"bank-additional-full.csv\",inferSchema=True,header=True,sep=\";\")"
   ]
  },
  {
   "cell_type": "code",
   "execution_count": 3,
   "metadata": {
    "scrolled": true
   },
   "outputs": [],
   "source": [
    "import pandas as pd "
   ]
  },
  {
   "cell_type": "code",
   "execution_count": 4,
   "metadata": {},
   "outputs": [],
   "source": [
    "def del_unknown(data):\n",
    "    # fill_attrs = [\"default\"]\n",
    "    del_attrs = ['job','marital','education','housing','loan']\n",
    "    for i in del_attrs: \n",
    "        # delete col containing unknown\n",
    "        data = data[data[i] != \"unknown\"]  \n",
    "    return data"
   ]
  },
  {
   "cell_type": "code",
   "execution_count": 5,
   "metadata": {},
   "outputs": [],
   "source": [
    "df=del_unknown(df)"
   ]
  },
  {
   "cell_type": "code",
   "execution_count": 6,
   "metadata": {},
   "outputs": [],
   "source": [
    "from pyspark.sql.functions import col, when\n",
    "\n",
    "valueWhenTrue = \"admin\"  # for example\n",
    "\n",
    "df=df.withColumn(\n",
    "    \"job_new\",\n",
    "    when(\n",
    "        col(\"job\") == \"admin.\",\n",
    "        valueWhenTrue\n",
    "    ).otherwise(col(\"job\"))\n",
    ")"
   ]
  },
  {
   "cell_type": "code",
   "execution_count": 7,
   "metadata": {},
   "outputs": [],
   "source": [
    "df=df.filter((df['age']>50) |(df['job']!='retired'))"
   ]
  },
  {
   "cell_type": "code",
   "execution_count": 8,
   "metadata": {},
   "outputs": [],
   "source": [
    "from pyspark.sql.functions import monotonically_increasing_id \n",
    "\n",
    "df = df.select(\"*\").withColumn(\"id\", monotonically_increasing_id())"
   ]
  },
  {
   "cell_type": "code",
   "execution_count": 9,
   "metadata": {},
   "outputs": [],
   "source": [
    "from pyspark.sql.functions import udf \n",
    "dicEducation={'illiterate':0,'basic.4y':1,'basic.6y':1,'basic.9y':2,\n",
    "                                'high.school' :2, 'professional.course' :3, \n",
    "                                'university.degree' :3}\n",
    "def SimpleEducation(oldEducation):\n",
    "    return dicEducation[oldEducation] \n",
    "\n",
    "from pyspark.sql.types import IntegerType\n",
    "square_udf_education = udf(lambda z: SimpleEducation(z), IntegerType())\n",
    "df = df.select(\"*\").withColumn(\"education_new\", square_udf_education(df[\"education\"]))"
   ]
  },
  {
   "cell_type": "code",
   "execution_count": 10,
   "metadata": {},
   "outputs": [],
   "source": [
    "from pyspark.ml import Pipeline\n",
    "from pyspark.ml.feature import (VectorAssembler,VectorIndexer,OneHotEncoder,StringIndexer)\n",
    "\n",
    "indexers = [StringIndexer(inputCol=column, outputCol=   \"d_\"+column).fit(df) for column in\n",
    "                    ['default','housing','loan','job_new','contact','month','day_of_week','poutcome','marital']]\n",
    "\n",
    "\n",
    "pipeline = Pipeline(stages=indexers)\n",
    "df = pipeline.fit(df).transform(df)"
   ]
  },
  {
   "cell_type": "code",
   "execution_count": 11,
   "metadata": {},
   "outputs": [],
   "source": [
    "job_encoder = OneHotEncoder(inputCol='d_job_new',outputCol='jobVec')\n",
    "marital_encoder = OneHotEncoder(inputCol='d_marital',outputCol='maritalVec')   \n",
    "poutcome_encoder = OneHotEncoder(inputCol='d_poutcome',outputCol='poutcomeVec')\n",
    "stages=[job_encoder,marital_encoder,poutcome_encoder]\n",
    "pipeline = Pipeline(stages=stages)\n",
    "df = pipeline.fit(df).transform(df)"
   ]
  },
  {
   "cell_type": "code",
   "execution_count": 12,
   "metadata": {},
   "outputs": [],
   "source": [
    "df=df.withColumn(\n",
    "    \"d_y\",\n",
    "    when(\n",
    "        col(\"y\") == \"yes\",\n",
    "        1\n",
    "    ).otherwise(0)\n",
    ")"
   ]
  },
  {
   "cell_type": "code",
   "execution_count": 13,
   "metadata": {},
   "outputs": [],
   "source": [
    "df=df.drop(\"job_new\").drop(\"job\").drop(\"marital\").drop(\"education\").drop(\"default\").drop(\"housing\").drop(\"loan\")\n",
    "df=df.drop(\"contact\").drop(\"month\").drop(\"day_of_week\").drop(\"poutcome\") "
   ]
  },
  {
   "cell_type": "code",
   "execution_count": 14,
   "metadata": {},
   "outputs": [],
   "source": [
    "df=df.drop(\"d_housing\").drop(\"d_day_of_week\").drop(\"d_loan\") "
   ]
  },
  {
   "cell_type": "code",
   "execution_count": 15,
   "metadata": {},
   "outputs": [],
   "source": [
    "from pyspark.ml.feature import VectorAssembler \n",
    "assemblerInputs = ['age', 'duration', 'campaign', 'pdays', 'previous', 'emp_var_rate'\n",
    "              ,'cons_price_idx', 'cons_conf_idx', 'euribor3m', 'nr_employed', 'education_new', 'd_default'\n",
    "              ,'jobVec', 'd_contact', 'd_month', 'poutcomeVec', 'maritalVec' ]  \n",
    "assembler = VectorAssembler(inputCols=assemblerInputs, outputCol=\"features\")\n",
    "df = assembler.transform(df)"
   ]
  },
  {
   "cell_type": "code",
   "execution_count": 16,
   "metadata": {},
   "outputs": [],
   "source": [
    "fields=[x[\"name\"] for x in sorted(df.schema[\"features\"].metadata[\"ml_attr\"][\"attrs\"][\"binary\"]+\n",
    "   df.schema[\"features\"].metadata[\"ml_attr\"][\"attrs\"][\"numeric\"]+df.schema[\"features\"].metadata[\"ml_attr\"][\"attrs\"][\"nominal\"], \n",
    "   key=lambda x: x[\"idx\"])]"
   ]
  },
  {
   "cell_type": "code",
   "execution_count": 17,
   "metadata": {},
   "outputs": [
    {
     "name": "stdout",
     "output_type": "stream",
     "text": [
      "Training Dataset Count: 34244\n",
      "Test Dataset Count: 3887\n"
     ]
    }
   ],
   "source": [
    "train, test = df.randomSplit([0.9, 0.1], seed = 1234)\n",
    "print(\"Training Dataset Count: \" + str(train.count()))\n",
    "print(\"Test Dataset Count: \" + str(test.count()))"
   ]
  },
  {
   "cell_type": "code",
   "execution_count": 18,
   "metadata": {},
   "outputs": [],
   "source": [
    "trainY=train.filter(\"d_y=1\").count()*1.0\n",
    "trainN=train.filter(\"d_y=0\").count()*1.0\n",
    "train = train.sampleBy('d_y', fractions={0: trainY/trainN, 1: 1.0}).cache()\n"
   ]
  },
  {
   "cell_type": "code",
   "execution_count": 19,
   "metadata": {},
   "outputs": [
    {
     "name": "stdout",
     "output_type": "stream",
     "text": [
      "DecisionTree accuracy: 0.7941857473630048\n",
      "+---------+-----------+--------------------+\n",
      "|OriginYes|Total_Count|Prediction_Yes_Count|\n",
      "+---------+-----------+--------------------+\n",
      "|        1|        435|               401.0|\n",
      "|        0|       3452|               766.0|\n",
      "+---------+-----------+--------------------+\n",
      "\n"
     ]
    }
   ],
   "source": [
    "# try different parameters\n",
    "from pyspark.ml import Pipeline\n",
    "from pyspark.ml.classification import DecisionTreeClassifier\n",
    "from pyspark.ml.feature import StringIndexer, VectorIndexer\n",
    "from pyspark.ml.evaluation import MulticlassClassificationEvaluator \n",
    "from pyspark.sql.functions import max,sum,count\n",
    " \n",
    "\n",
    "# Train a DecisionTree model.\n",
    "dt = DecisionTreeClassifier(labelCol=\"d_y\", featuresCol=\"features\",maxDepth=3, maxBins=32)\n",
    " # Chain indexers and tree in a Pipeline\n",
    "pipeline = Pipeline(stages=[ dt])\n",
    "\n",
    "# Train model.  This also runs the indexers.\n",
    "dt_model = pipeline.fit(train) \n",
    "\n",
    "# Make predictions.\n",
    "dt_result = dt_model.transform(test) \n",
    " \n",
    "evaluator = MulticlassClassificationEvaluator(\n",
    "    labelCol=\"d_y\", predictionCol=\"prediction\",metricName=\"accuracy\")\n",
    "dt_accuracy = evaluator.evaluate(dt_result)\n",
    "\n",
    "print('DecisionTree accuracy: ' + str(dt_accuracy))\n",
    "dt_result.groupBy(dt_result['d_y'].alias('OriginYes')).agg(count(\"age\").alias(\"Total_Count\"),sum(\"prediction\").alias(\"Prediction_Yes_Count\")).show()"
   ]
  },
  {
   "cell_type": "code",
   "execution_count": 20,
   "metadata": {},
   "outputs": [
    {
     "name": "stdout",
     "output_type": "stream",
     "text": [
      "LogisticRegression accuracy: 0.8458965783380499\n",
      "+---------+-----------+--------------------+\n",
      "|OriginYes|Total_Count|Prediction_Yes_Count|\n",
      "+---------+-----------+--------------------+\n",
      "|        1|        435|               386.0|\n",
      "|        0|       3452|               550.0|\n",
      "+---------+-----------+--------------------+\n",
      "\n"
     ]
    }
   ],
   "source": [
    "#maxIter=100, regParam=0.0, elasticNetParam=0.0, tol=1e-6, fitIntercept=True, threshold=0.5, thresholds=None, probabilityCol=\"probability\", rawPredictionCol=\"rawPrediction\", standardization=True, weightCol=None, aggregationDepth=2,\n",
    "\n",
    "# try different parameters\n",
    "from pyspark.sql.functions import max,sum,count\n",
    "from pyspark.ml.classification import LogisticRegression  \n",
    "import matplotlib.pyplot as plt\n",
    "import numpy as np\n",
    "# Instantiate the model.\n",
    "lr_model = LogisticRegression(featuresCol='features',labelCol='d_y',maxIter=500, threshold=0.45,aggregationDepth=2 ) \n",
    "# Fit the model.\n",
    "lr_model = lr_model.fit(train) \n",
    "# And evaluate the model using the test data.\n",
    "lr_result = lr_model.transform(test)\n",
    "# Let's get a summary of the data.\n",
    "training_summary = lr_model.summary \n",
    "from pyspark.ml.evaluation import MulticlassClassificationEvaluator\n",
    "evaluator = MulticlassClassificationEvaluator(\n",
    "    labelCol=\"d_y\", predictionCol=\"prediction\",metricName=\"accuracy\")\n",
    "lr_accuracy = evaluator.evaluate(lr_result)\n",
    "\n",
    "print('LogisticRegression accuracy: ' + str(lr_accuracy))\n",
    "\n",
    "lr_result.groupBy(lr_result['d_y'].alias('OriginYes')).agg(count(\"age\").alias(\"Total_Count\"),sum(\"prediction\").alias(\"Prediction_Yes_Count\")).show()"
   ]
  },
  {
   "cell_type": "code",
   "execution_count": 21,
   "metadata": {},
   "outputs": [
    {
     "name": "stdout",
     "output_type": "stream",
     "text": [
      "final accuracy: 0.7787496784152302\n",
      "+---------+-----------+--------------------+\n",
      "|OriginYes|Total_Count|Prediction_Yes_Count|\n",
      "+---------+-----------+--------------------+\n",
      "|        1|        435|               415.0|\n",
      "|        0|       3452|               840.0|\n",
      "+---------+-----------+--------------------+\n",
      "\n"
     ]
    }
   ],
   "source": [
    "lr_result_2merge=lr_result.selectExpr(\"id\", \"prediction as prediction_fr\") \n",
    "final_result = lr_result_2merge.join(dt_result, on=['id'], how='inner')\n",
    "from pyspark.sql.functions import col, when \n",
    "final_result=final_result.withColumn(\n",
    "    \"final_prediction\",\n",
    "    when(\n",
    "        col(\"prediction_fr\") == 1,\n",
    "        col(\"prediction_fr\")\n",
    "    ).otherwise(col(\"prediction\"))\n",
    ")\n",
    "evaluator = MulticlassClassificationEvaluator(\n",
    "    labelCol=\"d_y\", predictionCol=\"final_prediction\",metricName=\"accuracy\")\n",
    "fl_accuracy = evaluator.evaluate(final_result)\n",
    "\n",
    "print('final accuracy: ' + str(fl_accuracy))\n",
    "\n",
    "final_result.groupBy(final_result['d_y'].alias('OriginYes')).agg(count(\"age\").alias(\"Total_Count\"),sum(\"final_prediction\").alias(\"Prediction_Yes_Count\")).show()"
   ]
  },
  {
   "cell_type": "code",
   "execution_count": 22,
   "metadata": {
    "scrolled": true
   },
   "outputs": [
    {
     "name": "stdout",
     "output_type": "stream",
     "text": [
      "Learned classification tree model:\n",
      "DecisionTreeClassificationModel (uid=DecisionTreeClassifier_4424ad23ba582f70506e) of depth 3 with 15 nodes\n",
      "  If (feature 1 <= 247.0)\n",
      "   If (feature 9 <= 5076.2)\n",
      "    If (feature 1 <= 118.0)\n",
      "     Predict: 0.0\n",
      "    Else (feature 1 > 118.0)\n",
      "     Predict: 1.0\n",
      "   Else (feature 9 > 5076.2)\n",
      "    If (feature 7 <= -47.1)\n",
      "     Predict: 1.0\n",
      "    Else (feature 7 > -47.1)\n",
      "     Predict: 0.0\n",
      "  Else (feature 1 > 247.0)\n",
      "   If (feature 5 <= -1.1)\n",
      "    If (feature 9 <= 5076.2)\n",
      "     Predict: 1.0\n",
      "    Else (feature 9 > 5076.2)\n",
      "     Predict: 1.0\n",
      "   Else (feature 5 > -1.1)\n",
      "    If (feature 1 <= 479.0)\n",
      "     Predict: 0.0\n",
      "    Else (feature 1 > 479.0)\n",
      "     Predict: 1.0\n",
      "\n"
     ]
    }
   ],
   "source": [
    "treeModel = dt_model.stages[0] \n",
    "print(\"Learned classification tree model:\\n\" + treeModel.toDebugString)"
   ]
  },
  {
   "cell_type": "code",
   "execution_count": 23,
   "metadata": {},
   "outputs": [],
   "source": [
    "fields=[x[\"name\"] for x in sorted(df.schema[\"features\"].metadata[\"ml_attr\"][\"attrs\"][\"binary\"]+\n",
    "   df.schema[\"features\"].metadata[\"ml_attr\"][\"attrs\"][\"numeric\"]+df.schema[\"features\"].metadata[\"ml_attr\"][\"attrs\"][\"nominal\"], \n",
    "   key=lambda x: x[\"idx\"])]"
   ]
  },
  {
   "cell_type": "code",
   "execution_count": 24,
   "metadata": {},
   "outputs": [
    {
     "data": {
      "text/plain": [
       "('duration', 'nr_employed', 'd_month', 'emp_var_rate', 'euribor3m')"
      ]
     },
     "execution_count": 24,
     "metadata": {},
     "output_type": "execute_result"
    }
   ],
   "source": [
    "fields[1],fields[9],fields[23],fields[5],fields[8]"
   ]
  },
  {
   "cell_type": "code",
   "execution_count": 25,
   "metadata": {},
   "outputs": [
    {
     "name": "stdout",
     "output_type": "stream",
     "text": [
      "cons_price_idx                 :    0.46\n",
      "poutcomeVec_nonexistent        :    0.34\n",
      "euribor3m                      :    0.31\n",
      "d_month                        :    0.21\n",
      "education_new                  :    0.19\n",
      "cons_conf_idx                  :    0.03\n",
      "jobVec_retired                 :    0.01\n",
      "duration                       :    0.01\n",
      "pdays                          :   -0.00\n",
      "maritalVec_married             :   -0.00\n",
      "age                            :   -0.01\n",
      "nr_employed                    :   -0.01\n",
      "maritalVec_single              :   -0.01\n",
      "campaign                       :   -0.03\n",
      "previous                       :   -0.14\n",
      "poutcomeVec_failure            :   -0.16\n",
      "jobVec_unemployed              :   -0.24\n",
      "d_default                      :   -0.33\n",
      "jobVec_technician              :   -0.40\n",
      "jobVec_admin                   :   -0.44\n",
      "d_contact                      :   -0.45\n",
      "jobVec_entrepreneur            :   -0.63\n",
      "jobVec_services                :   -0.69\n",
      "jobVec_blue-collar             :   -0.69\n",
      "jobVec_management              :   -0.72\n",
      "jobVec_self-employed           :   -0.77\n",
      "emp_var_rate                   :   -0.83\n",
      "jobVec_housemaid               :   -0.86\n"
     ]
    }
   ],
   "source": [
    "keys = fields\n",
    "values = lr_model.coefficients\n",
    "dictionary = dict(zip(keys, values))\n",
    "sorted_by_value = sorted(dictionary.items(), key=lambda kv: kv[1],reverse=True)\n",
    "for key,value in sorted_by_value :\n",
    "    print ('{:30s} : {:7.2f}'.format(key,value))"
   ]
  },
  {
   "cell_type": "code",
   "execution_count": 26,
   "metadata": {},
   "outputs": [
    {
     "data": {
      "text/html": [
       "<div>\n",
       "<style scoped>\n",
       "    .dataframe tbody tr th:only-of-type {\n",
       "        vertical-align: middle;\n",
       "    }\n",
       "\n",
       "    .dataframe tbody tr th {\n",
       "        vertical-align: top;\n",
       "    }\n",
       "\n",
       "    .dataframe thead th {\n",
       "        text-align: right;\n",
       "    }\n",
       "</style>\n",
       "<table border=\"1\" class=\"dataframe\">\n",
       "  <thead>\n",
       "    <tr style=\"text-align: right;\">\n",
       "      <th></th>\n",
       "      <th>0</th>\n",
       "      <th>1</th>\n",
       "      <th>2</th>\n",
       "      <th>3</th>\n",
       "      <th>4</th>\n",
       "    </tr>\n",
       "  </thead>\n",
       "  <tbody>\n",
       "    <tr>\n",
       "      <th>id</th>\n",
       "      <td>34888</td>\n",
       "      <td>37617</td>\n",
       "      <td>34431</td>\n",
       "      <td>33951</td>\n",
       "      <td>34429</td>\n",
       "    </tr>\n",
       "    <tr>\n",
       "      <th>prediction_fr</th>\n",
       "      <td>1</td>\n",
       "      <td>0</td>\n",
       "      <td>1</td>\n",
       "      <td>1</td>\n",
       "      <td>1</td>\n",
       "    </tr>\n",
       "    <tr>\n",
       "      <th>age</th>\n",
       "      <td>17</td>\n",
       "      <td>20</td>\n",
       "      <td>20</td>\n",
       "      <td>20</td>\n",
       "      <td>20</td>\n",
       "    </tr>\n",
       "    <tr>\n",
       "      <th>duration</th>\n",
       "      <td>92</td>\n",
       "      <td>36</td>\n",
       "      <td>74</td>\n",
       "      <td>74</td>\n",
       "      <td>625</td>\n",
       "    </tr>\n",
       "    <tr>\n",
       "      <th>campaign</th>\n",
       "      <td>3</td>\n",
       "      <td>1</td>\n",
       "      <td>1</td>\n",
       "      <td>2</td>\n",
       "      <td>1</td>\n",
       "    </tr>\n",
       "    <tr>\n",
       "      <th>pdays</th>\n",
       "      <td>4</td>\n",
       "      <td>999</td>\n",
       "      <td>999</td>\n",
       "      <td>999</td>\n",
       "      <td>999</td>\n",
       "    </tr>\n",
       "    <tr>\n",
       "      <th>previous</th>\n",
       "      <td>2</td>\n",
       "      <td>0</td>\n",
       "      <td>0</td>\n",
       "      <td>1</td>\n",
       "      <td>1</td>\n",
       "    </tr>\n",
       "    <tr>\n",
       "      <th>emp_var_rate</th>\n",
       "      <td>-2.9</td>\n",
       "      <td>-1.1</td>\n",
       "      <td>-2.9</td>\n",
       "      <td>-2.9</td>\n",
       "      <td>-2.9</td>\n",
       "    </tr>\n",
       "    <tr>\n",
       "      <th>cons_price_idx</th>\n",
       "      <td>92.201</td>\n",
       "      <td>94.199</td>\n",
       "      <td>92.469</td>\n",
       "      <td>92.963</td>\n",
       "      <td>92.469</td>\n",
       "    </tr>\n",
       "    <tr>\n",
       "      <th>cons_conf_idx</th>\n",
       "      <td>-31.4</td>\n",
       "      <td>-37.5</td>\n",
       "      <td>-33.6</td>\n",
       "      <td>-40.8</td>\n",
       "      <td>-33.6</td>\n",
       "    </tr>\n",
       "    <tr>\n",
       "      <th>euribor3m</th>\n",
       "      <td>0.869</td>\n",
       "      <td>0.882</td>\n",
       "      <td>1.029</td>\n",
       "      <td>1.26</td>\n",
       "      <td>1.029</td>\n",
       "    </tr>\n",
       "    <tr>\n",
       "      <th>nr_employed</th>\n",
       "      <td>5076.2</td>\n",
       "      <td>4963.6</td>\n",
       "      <td>5076.2</td>\n",
       "      <td>5076.2</td>\n",
       "      <td>5076.2</td>\n",
       "    </tr>\n",
       "    <tr>\n",
       "      <th>y</th>\n",
       "      <td>no</td>\n",
       "      <td>no</td>\n",
       "      <td>no</td>\n",
       "      <td>no</td>\n",
       "      <td>no</td>\n",
       "    </tr>\n",
       "    <tr>\n",
       "      <th>education_new</th>\n",
       "      <td>2</td>\n",
       "      <td>1</td>\n",
       "      <td>2</td>\n",
       "      <td>2</td>\n",
       "      <td>2</td>\n",
       "    </tr>\n",
       "    <tr>\n",
       "      <th>d_default</th>\n",
       "      <td>0</td>\n",
       "      <td>0</td>\n",
       "      <td>0</td>\n",
       "      <td>0</td>\n",
       "      <td>0</td>\n",
       "    </tr>\n",
       "    <tr>\n",
       "      <th>d_job_new</th>\n",
       "      <td>10</td>\n",
       "      <td>1</td>\n",
       "      <td>10</td>\n",
       "      <td>10</td>\n",
       "      <td>10</td>\n",
       "    </tr>\n",
       "    <tr>\n",
       "      <th>d_contact</th>\n",
       "      <td>0</td>\n",
       "      <td>1</td>\n",
       "      <td>0</td>\n",
       "      <td>0</td>\n",
       "      <td>0</td>\n",
       "    </tr>\n",
       "    <tr>\n",
       "      <th>d_month</th>\n",
       "      <td>2</td>\n",
       "      <td>7</td>\n",
       "      <td>1</td>\n",
       "      <td>3</td>\n",
       "      <td>1</td>\n",
       "    </tr>\n",
       "    <tr>\n",
       "      <th>d_poutcome</th>\n",
       "      <td>2</td>\n",
       "      <td>0</td>\n",
       "      <td>0</td>\n",
       "      <td>1</td>\n",
       "      <td>1</td>\n",
       "    </tr>\n",
       "    <tr>\n",
       "      <th>d_marital</th>\n",
       "      <td>1</td>\n",
       "      <td>1</td>\n",
       "      <td>1</td>\n",
       "      <td>1</td>\n",
       "      <td>1</td>\n",
       "    </tr>\n",
       "    <tr>\n",
       "      <th>jobVec</th>\n",
       "      <td>(0.0, 0.0, 0.0, 0.0, 0.0, 0.0, 0.0, 0.0, 0.0, ...</td>\n",
       "      <td>(0.0, 1.0, 0.0, 0.0, 0.0, 0.0, 0.0, 0.0, 0.0, ...</td>\n",
       "      <td>(0.0, 0.0, 0.0, 0.0, 0.0, 0.0, 0.0, 0.0, 0.0, ...</td>\n",
       "      <td>(0.0, 0.0, 0.0, 0.0, 0.0, 0.0, 0.0, 0.0, 0.0, ...</td>\n",
       "      <td>(0.0, 0.0, 0.0, 0.0, 0.0, 0.0, 0.0, 0.0, 0.0, ...</td>\n",
       "    </tr>\n",
       "    <tr>\n",
       "      <th>maritalVec</th>\n",
       "      <td>(0.0, 1.0)</td>\n",
       "      <td>(0.0, 1.0)</td>\n",
       "      <td>(0.0, 1.0)</td>\n",
       "      <td>(0.0, 1.0)</td>\n",
       "      <td>(0.0, 1.0)</td>\n",
       "    </tr>\n",
       "    <tr>\n",
       "      <th>poutcomeVec</th>\n",
       "      <td>(0.0, 0.0)</td>\n",
       "      <td>(1.0, 0.0)</td>\n",
       "      <td>(1.0, 0.0)</td>\n",
       "      <td>(0.0, 1.0)</td>\n",
       "      <td>(0.0, 1.0)</td>\n",
       "    </tr>\n",
       "    <tr>\n",
       "      <th>d_y</th>\n",
       "      <td>0</td>\n",
       "      <td>0</td>\n",
       "      <td>0</td>\n",
       "      <td>0</td>\n",
       "      <td>0</td>\n",
       "    </tr>\n",
       "    <tr>\n",
       "      <th>features</th>\n",
       "      <td>(17.0, 92.0, 3.0, 4.0, 2.0, -2.9, 92.201, -31....</td>\n",
       "      <td>(20.0, 36.0, 1.0, 999.0, 0.0, -1.1, 94.199, -3...</td>\n",
       "      <td>(20.0, 74.0, 1.0, 999.0, 0.0, -2.9, 92.469, -3...</td>\n",
       "      <td>(20.0, 74.0, 2.0, 999.0, 1.0, -2.9, 92.963, -4...</td>\n",
       "      <td>(20.0, 625.0, 1.0, 999.0, 1.0, -2.9, 92.469, -...</td>\n",
       "    </tr>\n",
       "    <tr>\n",
       "      <th>rawPrediction</th>\n",
       "      <td>[93.0, 81.0]</td>\n",
       "      <td>[93.0, 81.0]</td>\n",
       "      <td>[93.0, 81.0]</td>\n",
       "      <td>[93.0, 81.0]</td>\n",
       "      <td>[70.0, 1124.0]</td>\n",
       "    </tr>\n",
       "    <tr>\n",
       "      <th>probability</th>\n",
       "      <td>[0.5344827586206896, 0.46551724137931033]</td>\n",
       "      <td>[0.5344827586206896, 0.46551724137931033]</td>\n",
       "      <td>[0.5344827586206896, 0.46551724137931033]</td>\n",
       "      <td>[0.5344827586206896, 0.46551724137931033]</td>\n",
       "      <td>[0.05862646566164154, 0.9413735343383585]</td>\n",
       "    </tr>\n",
       "    <tr>\n",
       "      <th>prediction</th>\n",
       "      <td>0</td>\n",
       "      <td>0</td>\n",
       "      <td>0</td>\n",
       "      <td>0</td>\n",
       "      <td>1</td>\n",
       "    </tr>\n",
       "    <tr>\n",
       "      <th>final_prediction</th>\n",
       "      <td>1</td>\n",
       "      <td>0</td>\n",
       "      <td>1</td>\n",
       "      <td>1</td>\n",
       "      <td>1</td>\n",
       "    </tr>\n",
       "  </tbody>\n",
       "</table>\n",
       "</div>"
      ],
      "text/plain": [
       "                                                                  0  \\\n",
       "id                                                            34888   \n",
       "prediction_fr                                                     1   \n",
       "age                                                              17   \n",
       "duration                                                         92   \n",
       "campaign                                                          3   \n",
       "pdays                                                             4   \n",
       "previous                                                          2   \n",
       "emp_var_rate                                                   -2.9   \n",
       "cons_price_idx                                               92.201   \n",
       "cons_conf_idx                                                 -31.4   \n",
       "euribor3m                                                     0.869   \n",
       "nr_employed                                                  5076.2   \n",
       "y                                                                no   \n",
       "education_new                                                     2   \n",
       "d_default                                                         0   \n",
       "d_job_new                                                        10   \n",
       "d_contact                                                         0   \n",
       "d_month                                                           2   \n",
       "d_poutcome                                                        2   \n",
       "d_marital                                                         1   \n",
       "jobVec            (0.0, 0.0, 0.0, 0.0, 0.0, 0.0, 0.0, 0.0, 0.0, ...   \n",
       "maritalVec                                               (0.0, 1.0)   \n",
       "poutcomeVec                                              (0.0, 0.0)   \n",
       "d_y                                                               0   \n",
       "features          (17.0, 92.0, 3.0, 4.0, 2.0, -2.9, 92.201, -31....   \n",
       "rawPrediction                                          [93.0, 81.0]   \n",
       "probability               [0.5344827586206896, 0.46551724137931033]   \n",
       "prediction                                                        0   \n",
       "final_prediction                                                  1   \n",
       "\n",
       "                                                                  1  \\\n",
       "id                                                            37617   \n",
       "prediction_fr                                                     0   \n",
       "age                                                              20   \n",
       "duration                                                         36   \n",
       "campaign                                                          1   \n",
       "pdays                                                           999   \n",
       "previous                                                          0   \n",
       "emp_var_rate                                                   -1.1   \n",
       "cons_price_idx                                               94.199   \n",
       "cons_conf_idx                                                 -37.5   \n",
       "euribor3m                                                     0.882   \n",
       "nr_employed                                                  4963.6   \n",
       "y                                                                no   \n",
       "education_new                                                     1   \n",
       "d_default                                                         0   \n",
       "d_job_new                                                         1   \n",
       "d_contact                                                         1   \n",
       "d_month                                                           7   \n",
       "d_poutcome                                                        0   \n",
       "d_marital                                                         1   \n",
       "jobVec            (0.0, 1.0, 0.0, 0.0, 0.0, 0.0, 0.0, 0.0, 0.0, ...   \n",
       "maritalVec                                               (0.0, 1.0)   \n",
       "poutcomeVec                                              (1.0, 0.0)   \n",
       "d_y                                                               0   \n",
       "features          (20.0, 36.0, 1.0, 999.0, 0.0, -1.1, 94.199, -3...   \n",
       "rawPrediction                                          [93.0, 81.0]   \n",
       "probability               [0.5344827586206896, 0.46551724137931033]   \n",
       "prediction                                                        0   \n",
       "final_prediction                                                  0   \n",
       "\n",
       "                                                                  2  \\\n",
       "id                                                            34431   \n",
       "prediction_fr                                                     1   \n",
       "age                                                              20   \n",
       "duration                                                         74   \n",
       "campaign                                                          1   \n",
       "pdays                                                           999   \n",
       "previous                                                          0   \n",
       "emp_var_rate                                                   -2.9   \n",
       "cons_price_idx                                               92.469   \n",
       "cons_conf_idx                                                 -33.6   \n",
       "euribor3m                                                     1.029   \n",
       "nr_employed                                                  5076.2   \n",
       "y                                                                no   \n",
       "education_new                                                     2   \n",
       "d_default                                                         0   \n",
       "d_job_new                                                        10   \n",
       "d_contact                                                         0   \n",
       "d_month                                                           1   \n",
       "d_poutcome                                                        0   \n",
       "d_marital                                                         1   \n",
       "jobVec            (0.0, 0.0, 0.0, 0.0, 0.0, 0.0, 0.0, 0.0, 0.0, ...   \n",
       "maritalVec                                               (0.0, 1.0)   \n",
       "poutcomeVec                                              (1.0, 0.0)   \n",
       "d_y                                                               0   \n",
       "features          (20.0, 74.0, 1.0, 999.0, 0.0, -2.9, 92.469, -3...   \n",
       "rawPrediction                                          [93.0, 81.0]   \n",
       "probability               [0.5344827586206896, 0.46551724137931033]   \n",
       "prediction                                                        0   \n",
       "final_prediction                                                  1   \n",
       "\n",
       "                                                                  3  \\\n",
       "id                                                            33951   \n",
       "prediction_fr                                                     1   \n",
       "age                                                              20   \n",
       "duration                                                         74   \n",
       "campaign                                                          2   \n",
       "pdays                                                           999   \n",
       "previous                                                          1   \n",
       "emp_var_rate                                                   -2.9   \n",
       "cons_price_idx                                               92.963   \n",
       "cons_conf_idx                                                 -40.8   \n",
       "euribor3m                                                      1.26   \n",
       "nr_employed                                                  5076.2   \n",
       "y                                                                no   \n",
       "education_new                                                     2   \n",
       "d_default                                                         0   \n",
       "d_job_new                                                        10   \n",
       "d_contact                                                         0   \n",
       "d_month                                                           3   \n",
       "d_poutcome                                                        1   \n",
       "d_marital                                                         1   \n",
       "jobVec            (0.0, 0.0, 0.0, 0.0, 0.0, 0.0, 0.0, 0.0, 0.0, ...   \n",
       "maritalVec                                               (0.0, 1.0)   \n",
       "poutcomeVec                                              (0.0, 1.0)   \n",
       "d_y                                                               0   \n",
       "features          (20.0, 74.0, 2.0, 999.0, 1.0, -2.9, 92.963, -4...   \n",
       "rawPrediction                                          [93.0, 81.0]   \n",
       "probability               [0.5344827586206896, 0.46551724137931033]   \n",
       "prediction                                                        0   \n",
       "final_prediction                                                  1   \n",
       "\n",
       "                                                                  4  \n",
       "id                                                            34429  \n",
       "prediction_fr                                                     1  \n",
       "age                                                              20  \n",
       "duration                                                        625  \n",
       "campaign                                                          1  \n",
       "pdays                                                           999  \n",
       "previous                                                          1  \n",
       "emp_var_rate                                                   -2.9  \n",
       "cons_price_idx                                               92.469  \n",
       "cons_conf_idx                                                 -33.6  \n",
       "euribor3m                                                     1.029  \n",
       "nr_employed                                                  5076.2  \n",
       "y                                                                no  \n",
       "education_new                                                     2  \n",
       "d_default                                                         0  \n",
       "d_job_new                                                        10  \n",
       "d_contact                                                         0  \n",
       "d_month                                                           1  \n",
       "d_poutcome                                                        1  \n",
       "d_marital                                                         1  \n",
       "jobVec            (0.0, 0.0, 0.0, 0.0, 0.0, 0.0, 0.0, 0.0, 0.0, ...  \n",
       "maritalVec                                               (0.0, 1.0)  \n",
       "poutcomeVec                                              (0.0, 1.0)  \n",
       "d_y                                                               0  \n",
       "features          (20.0, 625.0, 1.0, 999.0, 1.0, -2.9, 92.469, -...  \n",
       "rawPrediction                                        [70.0, 1124.0]  \n",
       "probability               [0.05862646566164154, 0.9413735343383585]  \n",
       "prediction                                                        1  \n",
       "final_prediction                                                  1  "
      ]
     },
     "execution_count": 26,
     "metadata": {},
     "output_type": "execute_result"
    }
   ],
   "source": [
    "pd.DataFrame(final_result.take(5),columns=final_result.columns).transpose()"
   ]
  },
  {
   "cell_type": "code",
   "execution_count": 27,
   "metadata": {},
   "outputs": [],
   "source": [
    "def showLines_bars2(final_group,field):    \n",
    "    xs = final_group[\"x\"].values.tolist()\n",
    "#ages=ages[0:10]\n",
    "    N = len(xs)\n",
    "    ind = np.arange(N)    # the x locations for the groups      \n",
    "\n",
    "    Origin_Yes_Count = final_group[\"Origin_Yes_Count\"].values.tolist()\n",
    "    final_group[\"Diff_count\"]=final_group.Prediction_Yes_Count-final_group.Origin_Yes_Count \n",
    "    Prediction_Yes_Count =final_group[\"Diff_count\"].values.tolist()  \n",
    "    width = 0.35       # the width of the bars: can also be len(x) sequence   \n",
    "    \n",
    "\n",
    "    plt.ylabel('count(*)')\n",
    "    plt.title('count by group by '+field)\n",
    "    y=[Origin_Yes_Count,Origin_Yes_Count]\n",
    "    lbl=[\"Origin\",\"Prediction\"]\n",
    "    pal = [\"r\", \"b\" ]\n",
    "    if(N>20):\n",
    "         # ind = np.arange(int(N/10))    # the x locations for the groups\n",
    "        # print(ind)\n",
    "        gap=10;\n",
    "        if N>3000:\n",
    "            gap=1000\n",
    "        elif N>300:\n",
    "            gap=100\n",
    "        else:\n",
    "            gap=10 \n",
    "        xti_ages=[ xs[i] if (i%gap==0) else \"\" for i in ind]\n",
    "     \n",
    "        plt.stackplot(ind, y, labels=lbl, colors=pal, alpha=0.4 )\n",
    "     \n",
    "            #xticks( arange(5), ('Tom', 'Dick', 'Harry', 'Sally', 'Sue') )\n",
    "    elif N>5:\n",
    "        #plt.xticks(ind, xs, rotation='vertical')\n",
    "        plt.stackplot(ind, y, labels=lbl, colors=pal, alpha=0.4 )\n",
    "     \n",
    "    else:\n",
    "        plt.stackplot(ind, y, labels=lbl, colors=pal, alpha=0.4)\n",
    "    plt.legend(loc='upper right')\n",
    "    #plt.yticks(np.arange(0, 100, 10)) \n",
    "    plt.show()"
   ]
  },
  {
   "cell_type": "code",
   "execution_count": 28,
   "metadata": {},
   "outputs": [
    {
     "data": {
      "image/png": "[encoded data removed]",
      "text/plain": [
       "<Figure size 432x288 with 1 Axes>"
      ]
     },
     "metadata": {},
     "output_type": "display_data"
    }
   ],
   "source": [
    "final_group_age=final_result.groupBy(final_result['duration'].alias(\"x\")).agg(sum(\"d_y\").alias(\"Origin_Yes_Count\"),sum(\"final_prediction\").alias(\"Prediction_Yes_Count\")).sort(\"x\").toPandas()  \n",
    "showLines_bars2(final_group_age,'duration')"
   ]
  },
  {
   "cell_type": "code",
   "execution_count": 29,
   "metadata": {},
   "outputs": [
    {
     "data": {
      "image/png": "[encoded data removed]",
      "text/plain": [
       "<Figure size 432x288 with 1 Axes>"
      ]
     },
     "metadata": {},
     "output_type": "display_data"
    }
   ],
   "source": [
    "final_group_emp=final_result.groupBy(final_result['euribor3m'].alias(\"x\")).agg(sum(\"d_y\").alias(\"Origin_Yes_Count\"),sum(\"final_prediction\").alias(\"Prediction_Yes_Count\")).sort(\"x\").toPandas()  \n",
    "showLines_bars2(final_group_emp,'euribor3m')"
   ]
  },
  {
   "cell_type": "code",
   "execution_count": 30,
   "metadata": {},
   "outputs": [
    {
     "data": {
      "image/png": "[encoded data removed]",
      "text/plain": [
       "<Figure size 432x288 with 1 Axes>"
      ]
     },
     "metadata": {},
     "output_type": "display_data"
    }
   ],
   "source": [
    "final_group_emp=final_result.groupBy(final_result['emp_var_rate'].alias(\"x\")).agg(sum(\"d_y\").alias(\"Origin_Yes_Count\"),sum(\"final_prediction\").alias(\"Prediction_Yes_Count\")).sort(\"x\").toPandas()  \n",
    "showLines_bars2(final_group_emp,'emp_var_rate')"
   ]
  },
  {
   "cell_type": "code",
   "execution_count": 31,
   "metadata": {},
   "outputs": [
    {
     "data": {
      "image/png": "[encoded data removed]",
      "text/plain": [
       "<Figure size 432x288 with 1 Axes>"
      ]
     },
     "metadata": {},
     "output_type": "display_data"
    }
   ],
   "source": [
    "final_group_emp=final_result.groupBy(final_result['cons_price_idx'].alias(\"x\")).agg(sum(\"d_y\").alias(\"Origin_Yes_Count\"),sum(\"final_prediction\").alias(\"Prediction_Yes_Count\")).sort(\"x\").toPandas()\n",
    "showLines_bars2(final_group_emp,'cons_price_idx')"
   ]
  },
  {
   "cell_type": "code",
   "execution_count": 32,
   "metadata": {},
   "outputs": [
    {
     "data": {
      "image/png": "[encoded data removed]",
      "text/plain": [
       "<Figure size 432x288 with 1 Axes>"
      ]
     },
     "metadata": {},
     "output_type": "display_data"
    }
   ],
   "source": [
    "final_group_emp=final_result.groupBy(final_result['nr_employed'].alias(\"x\")).agg(sum(\"d_y\").alias(\"Origin_Yes_Count\"),sum(\"final_prediction\").alias(\"Prediction_Yes_Count\")).sort(\"x\").toPandas()  \n",
    "showLines_bars2(final_group_emp,'nr_employed')"
   ]
  },
  {
   "cell_type": "code",
   "execution_count": 33,
   "metadata": {},
   "outputs": [],
   "source": [
    "final_compare=final_result.groupBy(\"d_y\",\"final_prediction\").agg(count(\"age\").alias(\"record_count\")).sort(\"d_y\",\"final_prediction\")\n",
    "final_compare =final_compare.withColumn(\"Y-N\",when(((col('d_y')==1 )& (col('final_prediction')==1.0)) ,'Yes-Yes').otherwise(when(((col('d_y')==1)& (col('final_prediction')==0.0 ) ),'Yes-No').otherwise(when(col('final_prediction')==1.0,'No-Yes').otherwise('No-No'))))\n",
    "final_compare=final_compare.toPandas()"
   ]
  },
  {
   "cell_type": "code",
   "execution_count": 34,
   "metadata": {},
   "outputs": [],
   "source": [
    "ttl_recordCount=final_result.count()"
   ]
  },
  {
   "cell_type": "code",
   "execution_count": 35,
   "metadata": {},
   "outputs": [],
   "source": [
    "final_compare[\"ratio\"]=final_compare[\"record_count\"]*100.0/ttl_recordCount"
   ]
  },
  {
   "cell_type": "code",
   "execution_count": 36,
   "metadata": {},
   "outputs": [
    {
     "data": {
      "text/html": [
       "<div>\n",
       "<style scoped>\n",
       "    .dataframe tbody tr th:only-of-type {\n",
       "        vertical-align: middle;\n",
       "    }\n",
       "\n",
       "    .dataframe tbody tr th {\n",
       "        vertical-align: top;\n",
       "    }\n",
       "\n",
       "    .dataframe thead th {\n",
       "        text-align: right;\n",
       "    }\n",
       "</style>\n",
       "<table border=\"1\" class=\"dataframe\">\n",
       "  <thead>\n",
       "    <tr style=\"text-align: right;\">\n",
       "      <th></th>\n",
       "      <th>d_y</th>\n",
       "      <th>final_prediction</th>\n",
       "      <th>record_count</th>\n",
       "      <th>Y-N</th>\n",
       "      <th>ratio</th>\n",
       "    </tr>\n",
       "  </thead>\n",
       "  <tbody>\n",
       "    <tr>\n",
       "      <th>0</th>\n",
       "      <td>0</td>\n",
       "      <td>0.0</td>\n",
       "      <td>2612</td>\n",
       "      <td>No-No</td>\n",
       "      <td>67.198353</td>\n",
       "    </tr>\n",
       "    <tr>\n",
       "      <th>1</th>\n",
       "      <td>0</td>\n",
       "      <td>1.0</td>\n",
       "      <td>840</td>\n",
       "      <td>No-Yes</td>\n",
       "      <td>21.610497</td>\n",
       "    </tr>\n",
       "    <tr>\n",
       "      <th>2</th>\n",
       "      <td>1</td>\n",
       "      <td>0.0</td>\n",
       "      <td>20</td>\n",
       "      <td>Yes-No</td>\n",
       "      <td>0.514536</td>\n",
       "    </tr>\n",
       "    <tr>\n",
       "      <th>3</th>\n",
       "      <td>1</td>\n",
       "      <td>1.0</td>\n",
       "      <td>415</td>\n",
       "      <td>Yes-Yes</td>\n",
       "      <td>10.676614</td>\n",
       "    </tr>\n",
       "  </tbody>\n",
       "</table>\n",
       "</div>"
      ],
      "text/plain": [
       "   d_y  final_prediction  record_count      Y-N      ratio\n",
       "0    0               0.0          2612    No-No  67.198353\n",
       "1    0               1.0           840   No-Yes  21.610497\n",
       "2    1               0.0            20   Yes-No   0.514536\n",
       "3    1               1.0           415  Yes-Yes  10.676614"
      ]
     },
     "execution_count": 36,
     "metadata": {},
     "output_type": "execute_result"
    }
   ],
   "source": [
    "final_compare "
   ]
  },
  {
   "cell_type": "code",
   "execution_count": 37,
   "metadata": {},
   "outputs": [
    {
     "data": {
      "image/png": "[encoded data removed]",
      "text/plain": [
       "<Figure size 432x288 with 1 Axes>"
      ]
     },
     "metadata": {},
     "output_type": "display_data"
    }
   ],
   "source": [
    " \n",
    "\n",
    "# Pie chart, where the slices will be ordered and plotted counter-clockwise:\n",
    "labels =final_compare[\"Y-N\"].values.tolist()\n",
    "sizes = final_compare[\"ratio\"].values.tolist()\n",
    "explode = (0, 0.1, 0, 0)  # only \"explode\" the 2nd slice (i.e. 'Hogs')\n",
    "\n",
    "fig1, ax1 = plt.subplots()\n",
    "ax1.pie(sizes, explode=explode, labels=labels, autopct='%1.1f%%',\n",
    "        shadow=True, startangle=90)\n",
    "ax1.axis('equal')  # Equal aspect ratio ensures that pie is drawn as a circle.\n",
    "\n",
    "plt.show()"
   ]
  },
  {
   "cell_type": "code",
   "execution_count": null,
   "metadata": {},
   "outputs": [],
   "source": []
  }
 ],
 "metadata": {
  "kernelspec": {
   "display_name": "Python 3",
   "language": "python",
   "name": "python3"
  },
  "language_info": {
   "codemirror_mode": {
    "name": "ipython",
    "version": 3
   },
   "file_extension": ".py",
   "mimetype": "text/x-python",
   "name": "python",
   "nbconvert_exporter": "python",
   "pygments_lexer": "ipython3",
   "version": "3.5.2"
  }
 },
 "nbformat": 4,
 "nbformat_minor": 2
}
