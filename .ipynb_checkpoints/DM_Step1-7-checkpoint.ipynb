{
 "cells": [
  {
   "cell_type": "code",
   "execution_count": 1,
   "metadata": {},
   "outputs": [],
   "source": [
    "# set environment \n",
    "import findspark\n",
    "findspark.init('/home/ubuntu/spark-2.1.1-bin-hadoop2.7')\n",
    "import pyspark\n",
    "from pyspark.sql import SparkSession\n",
    "from pyspark.sql.functions import exp\n",
    "from pyspark.sql.functions import max,sum,count\n",
    "from pyspark.ml.classification import LogisticRegression  \n",
    "import matplotlib.pyplot as plt\n",
    "import numpy as np\n",
    "spark = SparkSession.builder.appName('Bank Telephone Marketing Analysis step1-7').getOrCreate() "
   ]
  },
  {
   "cell_type": "code",
   "execution_count": 2,
   "metadata": {},
   "outputs": [],
   "source": [
    "#read data\n",
    "df = spark.read.csv(\"bank-additional-full.csv\",inferSchema=True,header=True,sep=\";\")"
   ]
  },
  {
   "cell_type": "code",
   "execution_count": 3,
   "metadata": {
    "scrolled": true
   },
   "outputs": [
    {
     "name": "stdout",
     "output_type": "stream",
     "text": [
      "root\n",
      " |-- age: integer (nullable = true)\n",
      " |-- job: string (nullable = true)\n",
      " |-- marital: string (nullable = true)\n",
      " |-- education: string (nullable = true)\n",
      " |-- default: string (nullable = true)\n",
      " |-- housing: string (nullable = true)\n",
      " |-- loan: string (nullable = true)\n",
      " |-- contact: string (nullable = true)\n",
      " |-- month: string (nullable = true)\n",
      " |-- day_of_week: string (nullable = true)\n",
      " |-- duration: integer (nullable = true)\n",
      " |-- campaign: integer (nullable = true)\n",
      " |-- pdays: integer (nullable = true)\n",
      " |-- previous: integer (nullable = true)\n",
      " |-- poutcome: string (nullable = true)\n",
      " |-- emp_var_rate: double (nullable = true)\n",
      " |-- cons_price_idx: double (nullable = true)\n",
      " |-- cons_conf_idx: double (nullable = true)\n",
      " |-- euribor3m: double (nullable = true)\n",
      " |-- nr_employed: double (nullable = true)\n",
      " |-- y: string (nullable = true)\n",
      "\n"
     ]
    }
   ],
   "source": [
    "df.printSchema()"
   ]
  },
  {
   "cell_type": "code",
   "execution_count": 4,
   "metadata": {
    "scrolled": true
   },
   "outputs": [],
   "source": [
    "import pandas as pd "
   ]
  },
  {
   "cell_type": "code",
   "execution_count": 5,
   "metadata": {
    "scrolled": true
   },
   "outputs": [
    {
     "data": {
      "text/html": [
       "<div>\n",
       "<style scoped>\n",
       "    .dataframe tbody tr th:only-of-type {\n",
       "        vertical-align: middle;\n",
       "    }\n",
       "\n",
       "    .dataframe tbody tr th {\n",
       "        vertical-align: top;\n",
       "    }\n",
       "\n",
       "    .dataframe thead th {\n",
       "        text-align: right;\n",
       "    }\n",
       "</style>\n",
       "<table border=\"1\" class=\"dataframe\">\n",
       "  <thead>\n",
       "    <tr style=\"text-align: right;\">\n",
       "      <th></th>\n",
       "      <th>0</th>\n",
       "      <th>1</th>\n",
       "      <th>2</th>\n",
       "      <th>3</th>\n",
       "      <th>4</th>\n",
       "    </tr>\n",
       "  </thead>\n",
       "  <tbody>\n",
       "    <tr>\n",
       "      <th>summary</th>\n",
       "      <td>count</td>\n",
       "      <td>mean</td>\n",
       "      <td>stddev</td>\n",
       "      <td>min</td>\n",
       "      <td>max</td>\n",
       "    </tr>\n",
       "    <tr>\n",
       "      <th>age</th>\n",
       "      <td>41188</td>\n",
       "      <td>40.02406040594348</td>\n",
       "      <td>10.421249980934045</td>\n",
       "      <td>17</td>\n",
       "      <td>98</td>\n",
       "    </tr>\n",
       "    <tr>\n",
       "      <th>job</th>\n",
       "      <td>41188</td>\n",
       "      <td>None</td>\n",
       "      <td>None</td>\n",
       "      <td>admin.</td>\n",
       "      <td>unknown</td>\n",
       "    </tr>\n",
       "    <tr>\n",
       "      <th>marital</th>\n",
       "      <td>41188</td>\n",
       "      <td>None</td>\n",
       "      <td>None</td>\n",
       "      <td>divorced</td>\n",
       "      <td>unknown</td>\n",
       "    </tr>\n",
       "    <tr>\n",
       "      <th>education</th>\n",
       "      <td>41188</td>\n",
       "      <td>None</td>\n",
       "      <td>None</td>\n",
       "      <td>basic.4y</td>\n",
       "      <td>unknown</td>\n",
       "    </tr>\n",
       "    <tr>\n",
       "      <th>default</th>\n",
       "      <td>41188</td>\n",
       "      <td>None</td>\n",
       "      <td>None</td>\n",
       "      <td>no</td>\n",
       "      <td>yes</td>\n",
       "    </tr>\n",
       "    <tr>\n",
       "      <th>housing</th>\n",
       "      <td>41188</td>\n",
       "      <td>None</td>\n",
       "      <td>None</td>\n",
       "      <td>no</td>\n",
       "      <td>yes</td>\n",
       "    </tr>\n",
       "    <tr>\n",
       "      <th>loan</th>\n",
       "      <td>41188</td>\n",
       "      <td>None</td>\n",
       "      <td>None</td>\n",
       "      <td>no</td>\n",
       "      <td>yes</td>\n",
       "    </tr>\n",
       "    <tr>\n",
       "      <th>contact</th>\n",
       "      <td>41188</td>\n",
       "      <td>None</td>\n",
       "      <td>None</td>\n",
       "      <td>cellular</td>\n",
       "      <td>telephone</td>\n",
       "    </tr>\n",
       "    <tr>\n",
       "      <th>month</th>\n",
       "      <td>41188</td>\n",
       "      <td>None</td>\n",
       "      <td>None</td>\n",
       "      <td>apr</td>\n",
       "      <td>sep</td>\n",
       "    </tr>\n",
       "    <tr>\n",
       "      <th>day_of_week</th>\n",
       "      <td>41188</td>\n",
       "      <td>None</td>\n",
       "      <td>None</td>\n",
       "      <td>fri</td>\n",
       "      <td>wed</td>\n",
       "    </tr>\n",
       "    <tr>\n",
       "      <th>duration</th>\n",
       "      <td>41188</td>\n",
       "      <td>258.2850101971448</td>\n",
       "      <td>259.2792488364655</td>\n",
       "      <td>0</td>\n",
       "      <td>4918</td>\n",
       "    </tr>\n",
       "    <tr>\n",
       "      <th>campaign</th>\n",
       "      <td>41188</td>\n",
       "      <td>2.567592502670681</td>\n",
       "      <td>2.770013542902322</td>\n",
       "      <td>1</td>\n",
       "      <td>56</td>\n",
       "    </tr>\n",
       "    <tr>\n",
       "      <th>pdays</th>\n",
       "      <td>41188</td>\n",
       "      <td>962.4754540157328</td>\n",
       "      <td>186.91090734474153</td>\n",
       "      <td>0</td>\n",
       "      <td>999</td>\n",
       "    </tr>\n",
       "    <tr>\n",
       "      <th>previous</th>\n",
       "      <td>41188</td>\n",
       "      <td>0.17296299893172767</td>\n",
       "      <td>0.49490107983929055</td>\n",
       "      <td>0</td>\n",
       "      <td>7</td>\n",
       "    </tr>\n",
       "    <tr>\n",
       "      <th>poutcome</th>\n",
       "      <td>41188</td>\n",
       "      <td>None</td>\n",
       "      <td>None</td>\n",
       "      <td>failure</td>\n",
       "      <td>success</td>\n",
       "    </tr>\n",
       "    <tr>\n",
       "      <th>emp_var_rate</th>\n",
       "      <td>41188</td>\n",
       "      <td>0.0818855006319146</td>\n",
       "      <td>1.5709597405170326</td>\n",
       "      <td>-3.4</td>\n",
       "      <td>1.4</td>\n",
       "    </tr>\n",
       "    <tr>\n",
       "      <th>cons_price_idx</th>\n",
       "      <td>41188</td>\n",
       "      <td>93.57566436831263</td>\n",
       "      <td>0.5788400489540964</td>\n",
       "      <td>92.201</td>\n",
       "      <td>94.767</td>\n",
       "    </tr>\n",
       "    <tr>\n",
       "      <th>cons_conf_idx</th>\n",
       "      <td>41188</td>\n",
       "      <td>-40.50260027191399</td>\n",
       "      <td>4.628197856174574</td>\n",
       "      <td>-50.8</td>\n",
       "      <td>-26.9</td>\n",
       "    </tr>\n",
       "    <tr>\n",
       "      <th>euribor3m</th>\n",
       "      <td>41188</td>\n",
       "      <td>3.621290812858068</td>\n",
       "      <td>1.7344474048512526</td>\n",
       "      <td>0.634</td>\n",
       "      <td>5.045</td>\n",
       "    </tr>\n",
       "    <tr>\n",
       "      <th>nr_employed</th>\n",
       "      <td>41188</td>\n",
       "      <td>5167.035910941844</td>\n",
       "      <td>72.2515276682639</td>\n",
       "      <td>4963.6</td>\n",
       "      <td>5228.1</td>\n",
       "    </tr>\n",
       "    <tr>\n",
       "      <th>y</th>\n",
       "      <td>41188</td>\n",
       "      <td>None</td>\n",
       "      <td>None</td>\n",
       "      <td>no</td>\n",
       "      <td>yes</td>\n",
       "    </tr>\n",
       "  </tbody>\n",
       "</table>\n",
       "</div>"
      ],
      "text/plain": [
       "                    0                    1                    2         3  \\\n",
       "summary         count                 mean               stddev       min   \n",
       "age             41188    40.02406040594348   10.421249980934045        17   \n",
       "job             41188                 None                 None    admin.   \n",
       "marital         41188                 None                 None  divorced   \n",
       "education       41188                 None                 None  basic.4y   \n",
       "default         41188                 None                 None        no   \n",
       "housing         41188                 None                 None        no   \n",
       "loan            41188                 None                 None        no   \n",
       "contact         41188                 None                 None  cellular   \n",
       "month           41188                 None                 None       apr   \n",
       "day_of_week     41188                 None                 None       fri   \n",
       "duration        41188    258.2850101971448    259.2792488364655         0   \n",
       "campaign        41188    2.567592502670681    2.770013542902322         1   \n",
       "pdays           41188    962.4754540157328   186.91090734474153         0   \n",
       "previous        41188  0.17296299893172767  0.49490107983929055         0   \n",
       "poutcome        41188                 None                 None   failure   \n",
       "emp_var_rate    41188   0.0818855006319146   1.5709597405170326      -3.4   \n",
       "cons_price_idx  41188    93.57566436831263   0.5788400489540964    92.201   \n",
       "cons_conf_idx   41188   -40.50260027191399    4.628197856174574     -50.8   \n",
       "euribor3m       41188    3.621290812858068   1.7344474048512526     0.634   \n",
       "nr_employed     41188    5167.035910941844     72.2515276682639    4963.6   \n",
       "y               41188                 None                 None        no   \n",
       "\n",
       "                        4  \n",
       "summary               max  \n",
       "age                    98  \n",
       "job               unknown  \n",
       "marital           unknown  \n",
       "education         unknown  \n",
       "default               yes  \n",
       "housing               yes  \n",
       "loan                  yes  \n",
       "contact         telephone  \n",
       "month                 sep  \n",
       "day_of_week           wed  \n",
       "duration             4918  \n",
       "campaign               56  \n",
       "pdays                 999  \n",
       "previous                7  \n",
       "poutcome          success  \n",
       "emp_var_rate          1.4  \n",
       "cons_price_idx     94.767  \n",
       "cons_conf_idx       -26.9  \n",
       "euribor3m           5.045  \n",
       "nr_employed        5228.1  \n",
       "y                     yes  "
      ]
     },
     "execution_count": 5,
     "metadata": {},
     "output_type": "execute_result"
    }
   ],
   "source": [
    "df.describe().toPandas().transpose()"
   ]
  },
  {
   "cell_type": "code",
   "execution_count": 6,
   "metadata": {},
   "outputs": [],
   "source": [
    "#split data by y,\n",
    "DataY=df.filter(\"y='yes'\") \n",
    "DataN=df.filter(\"y='no'\") "
   ]
  },
  {
   "cell_type": "code",
   "execution_count": 7,
   "metadata": {},
   "outputs": [],
   "source": [
    "import numpy as np\n",
    "import matplotlib.pyplot as plt\n",
    "def ShowGroupAndY2_new(fields):\n",
    "    for field in fields:\n",
    "        ages_df=df.groupby(df[field].alias(\"age\")).agg(count(\"y\").alias(\"count_all\")).sort(\"age\")\n",
    "        ages_dfY=DataY.groupby(DataY[field].alias(\"age\")).agg(count(\"y\").alias(\"count_y\")).sort(\"age\")\n",
    "        ages_dfN=DataN.groupby(DataN[field].alias(\"age\")).agg(count(\"y\").alias(\"count_n\")).sort(\"age\")\n",
    "        ages_df=ages_df.join(ages_dfY,on=['age'],how='left')\n",
    "        ages_df=ages_df.join(ages_dfN,on=['age'],how='left')\n",
    "        ages_df=ages_df.na.fill(0).toPandas()\n",
    "        ages = ages_df[\"age\"].values.tolist()\n",
    "        ages_df[\"ageY\"]=ages_df.count_y*100/ages_df.count_all        \n",
    "        ages_df[\"ageN\"]=ages_df.count_n*100/ages_df.count_all\n",
    "#ages=ages[0:10]\n",
    "        N = len(ages) \n",
    "        AgeY = ages_df[\"ageY\"].values.tolist()\n",
    "        AgeN = ages_df[\"ageN\"].values.tolist()\n",
    "        ind = np.arange(N)    # the x locations for the groups\n",
    "        width = 0.35       # the width of the bars: can also be len(x) sequence\n",
    "       # AgeFull = [  100 for age in ages]\n",
    "#print(AgeY)\n",
    "#print(AgeN)\n",
    "        p1 = plt.bar(ind, AgeN, width )\n",
    "        p2 = plt.bar(ind, AgeY, width ,\n",
    "             bottom=AgeN)\n",
    "\n",
    "        plt.ylabel('count(*)')\n",
    "        plt.title('count by group by '+field)\n",
    "        if(len(ages)>20):\n",
    "           # ind = np.arange(int(N/10))    # the x locations for the groups\n",
    "           # print(ind)\n",
    "            gap=10;\n",
    "            if len(ages)>3000:\n",
    "                gap=1000\n",
    "            elif len(ages)>300:\n",
    "                gap=100\n",
    "            else:\n",
    "                gap=10 \n",
    "            xti_ages=[ ages[i] if (i%gap==0) else \"\" for i in ind]\n",
    "            plt.xticks(ind, xti_ages , rotation='vertical' )\n",
    "            #xticks( arange(5), ('Tom', 'Dick', 'Harry', 'Sally', 'Sue') )\n",
    "        elif len(ages)>5:\n",
    "            plt.xticks(ind, ages, rotation='vertical')\n",
    "        else:\n",
    "            plt.xticks(ind, ages )\n",
    "        plt.yticks(np.arange(0, 100, 10))\n",
    "        plt.legend((p1[0], p2[0]), ('No', 'Yes'))\n",
    "        plt.show()"
   ]
  },
  {
   "cell_type": "code",
   "execution_count": 8,
   "metadata": {},
   "outputs": [],
   "source": [
    "import numpy as np\n",
    "import matplotlib.pyplot as plt\n",
    "def ShowGroupAndY2(fields):\n",
    "    for field in fields:\n",
    "        ages = sorted(df.select(df[field]).distinct().toPandas()[field])\n",
    "        N = len(ages)\n",
    "        ind = np.arange(N)    # the x locations for the groups\n",
    "        if(N>0):         \n",
    "            gap=10;\n",
    "            if N>3000:\n",
    "                gap=1000\n",
    "            elif N>300:\n",
    "                gap=100\n",
    "            elif N>20:\n",
    "                gap=10 \n",
    "            else:\n",
    "                gap=1\n",
    "            MinAges=[ ages[i]   for i in ind if (i%gap==0)]              \n",
    "            iMinAge=len(MinAges)\n",
    "            AgeN = [DataN.filter((DataN[field]>=MinAges[i]) & (DataN[field]<MinAges[i+1])).count()*100/df.filter((df[field]>=MinAges[i]) & (df[field]<MinAges[i+1])).count() for i in np.arange(iMinAge-1)] \n",
    "            AgeY = [DataY.filter((DataY[field]>=MinAges[i]) & (DataY[field]<MinAges[i+1])).count()*100/df.filter((df[field]>=MinAges[i]) & (df[field]<MinAges[i+1])).count() for i in np.arange(iMinAge-1)]\n",
    "            AgeN.append(DataN.filter(DataN[field]>=MinAges[iMinAge-1]).count()*100/df.filter(df[field]>=MinAges[iMinAge-1]).count())\n",
    "            AgeY.append(DataY.filter(DataY[field]>=MinAges[iMinAge-1]).count()*100/df.filter(df[field]>=MinAges[iMinAge-1]).count())\n",
    "            #if not (N%gap==0):            #    MinAges.append(ages[N-1])            #    AgeN.append(0)            #    AgeY.append(0)\n",
    "            N=len(MinAges)\n",
    "        ind = np.arange(N)    # the x locations for the groups\n",
    "        width = 0.35       # the width of the bars: can also be len(x) sequence    \n",
    "        p1 = plt.bar(ind, AgeN, width )\n",
    "        p2 = plt.bar(ind, AgeY, width ,\n",
    "             bottom=AgeN)\n",
    "\n",
    "        plt.ylabel('count(*)')\n",
    "        plt.title('count by group by '+field)\n",
    "        if len(MinAges)>5:\n",
    "            plt.xticks(ind, MinAges, rotation='vertical')\n",
    "        else:\n",
    "            plt.xticks(ind, MinAges )\n",
    "        plt.yticks(np.arange(0, 100, 10))\n",
    "        plt.legend((p1[0], p2[0]), ('No', 'Yes'))\n",
    "        plt.show()"
   ]
  },
  {
   "cell_type": "code",
   "execution_count": 9,
   "metadata": {},
   "outputs": [
    {
     "data": {
      "image/png": "[encoded data removed]",
      "text/plain": [
       "<Figure size 432x288 with 1 Axes>"
      ]
     },
     "metadata": {},
     "output_type": "display_data"
    },
    {
     "data": {
      "image/png": "[encoded data removed]",
      "text/plain": [
       "<Figure size 432x288 with 1 Axes>"
      ]
     },
     "metadata": {},
     "output_type": "display_data"
    },
    {
     "data": {
      "image/png": "[encoded data removed]",
      "text/plain": [
       "<Figure size 432x288 with 1 Axes>"
      ]
     },
     "metadata": {},
     "output_type": "display_data"
    },
    {
     "data": {
      "image/png": "[encoded data removed]",
      "text/plain": [
       "<Figure size 432x288 with 1 Axes>"
      ]
     },
     "metadata": {},
     "output_type": "display_data"
    },
    {
     "data": {
      "image/png": "[encoded data removed]",
      "text/plain": [
       "<Figure size 432x288 with 1 Axes>"
      ]
     },
     "metadata": {},
     "output_type": "display_data"
    },
    {
     "data": {
      "image/png": "[encoded data removed]",
      "text/plain": [
       "<Figure size 432x288 with 1 Axes>"
      ]
     },
     "metadata": {},
     "output_type": "display_data"
    },
    {
     "data": {
      "image/png": "[encoded data removed]",
      "text/plain": [
       "<Figure size 432x288 with 1 Axes>"
      ]
     },
     "metadata": {},
     "output_type": "display_data"
    }
   ],
   "source": [
    "ShowGroupAndY2(['age','job','marital','education','default','housing','loan'])"
   ]
  },
  {
   "cell_type": "code",
   "execution_count": 10,
   "metadata": {},
   "outputs": [
    {
     "data": {
      "image/png": "[encoded data removed]",
      "text/plain": [
       "<Figure size 432x288 with 1 Axes>"
      ]
     },
     "metadata": {},
     "output_type": "display_data"
    },
    {
     "data": {
      "image/png": "[encoded data removed]",
      "text/plain": [
       "<Figure size 432x288 with 1 Axes>"
      ]
     },
     "metadata": {},
     "output_type": "display_data"
    },
    {
     "data": {
      "image/png": "[encoded data removed]",
      "text/plain": [
       "<Figure size 432x288 with 1 Axes>"
      ]
     },
     "metadata": {},
     "output_type": "display_data"
    },
    {
     "data": {
      "image/png": "[encoded data removed]",
      "text/plain": [
       "<Figure size 432x288 with 1 Axes>"
      ]
     },
     "metadata": {},
     "output_type": "display_data"
    }
   ],
   "source": [
    "ShowGroupAndY2(['contact','month','day_of_week','duration'])"
   ]
  },
  {
   "cell_type": "code",
   "execution_count": 11,
   "metadata": {},
   "outputs": [
    {
     "data": {
      "image/png": "[encoded data removed]",
      "text/plain": [
       "<Figure size 432x288 with 1 Axes>"
      ]
     },
     "metadata": {},
     "output_type": "display_data"
    },
    {
     "data": {
      "image/png": "[encoded data removed]",
      "text/plain": [
       "<Figure size 432x288 with 1 Axes>"
      ]
     },
     "metadata": {},
     "output_type": "display_data"
    },
    {
     "data": {
      "image/png": "[encoded data removed]",
      "text/plain": [
       "<Figure size 432x288 with 1 Axes>"
      ]
     },
     "metadata": {},
     "output_type": "display_data"
    },
    {
     "data": {
      "image/png": "[encoded data removed]",
      "text/plain": [
       "<Figure size 432x288 with 1 Axes>"
      ]
     },
     "metadata": {},
     "output_type": "display_data"
    }
   ],
   "source": [
    "ShowGroupAndY2(['campaign','pdays','previous','poutcome'])"
   ]
  },
  {
   "cell_type": "code",
   "execution_count": 12,
   "metadata": {},
   "outputs": [
    {
     "data": {
      "image/png": "[encoded data removed]",
      "text/plain": [
       "<Figure size 432x288 with 1 Axes>"
      ]
     },
     "metadata": {},
     "output_type": "display_data"
    },
    {
     "data": {
      "image/png": "[encoded data removed]",
      "text/plain": [
       "<Figure size 432x288 with 1 Axes>"
      ]
     },
     "metadata": {},
     "output_type": "display_data"
    },
    {
     "data": {
      "image/png": "[encoded data removed]",
      "text/plain": [
       "<Figure size 432x288 with 1 Axes>"
      ]
     },
     "metadata": {},
     "output_type": "display_data"
    },
    {
     "data": {
      "image/png": "[encoded data removed]",
      "text/plain": [
       "<Figure size 432x288 with 1 Axes>"
      ]
     },
     "metadata": {},
     "output_type": "display_data"
    },
    {
     "data": {
      "image/png": "[encoded data removed]",
      "text/plain": [
       "<Figure size 432x288 with 1 Axes>"
      ]
     },
     "metadata": {},
     "output_type": "display_data"
    }
   ],
   "source": [
    "ShowGroupAndY2(['emp_var_rate','cons_price_idx','cons_conf_idx','euribor3m','nr_employed']) "
   ]
  },
  {
   "cell_type": "code",
   "execution_count": 13,
   "metadata": {},
   "outputs": [
    {
     "name": "stdout",
     "output_type": "stream",
     "text": [
      "+---+---+-------+---------+-------+-------+----+-------+-----+-----------+--------+--------+-----+--------+--------+------------+--------------+-------------+---------+-----------+---+\n",
      "|age|job|marital|education|default|housing|loan|contact|month|day_of_week|duration|campaign|pdays|previous|poutcome|emp_var_rate|cons_price_idx|cons_conf_idx|euribor3m|nr_employed|  y|\n",
      "+---+---+-------+---------+-------+-------+----+-------+-----+-----------+--------+--------+-----+--------+--------+------------+--------------+-------------+---------+-----------+---+\n",
      "|  0|  0|      0|        0|      0|      0|   0|      0|    0|          0|       0|       0|    0|       0|       0|           0|             0|            0|        0|          0|  0|\n",
      "+---+---+-------+---------+-------+-------+----+-------+-----+-----------+--------+--------+-----+--------+--------+------------+--------------+-------------+---------+-----------+---+\n",
      "\n"
     ]
    }
   ],
   "source": [
    "from pyspark.sql.functions import isnan, when, count, col\n",
    "\n",
    "df.select([count(when(isnan(c), c)).alias(c) for c in df.columns]).show()"
   ]
  },
  {
   "cell_type": "code",
   "execution_count": 14,
   "metadata": {},
   "outputs": [
    {
     "data": {
      "text/html": [
       "<div>\n",
       "<style scoped>\n",
       "    .dataframe tbody tr th:only-of-type {\n",
       "        vertical-align: middle;\n",
       "    }\n",
       "\n",
       "    .dataframe tbody tr th {\n",
       "        vertical-align: top;\n",
       "    }\n",
       "\n",
       "    .dataframe thead th {\n",
       "        text-align: right;\n",
       "    }\n",
       "</style>\n",
       "<table border=\"1\" class=\"dataframe\">\n",
       "  <thead>\n",
       "    <tr style=\"text-align: right;\">\n",
       "      <th></th>\n",
       "      <th>0</th>\n",
       "      <th>1</th>\n",
       "      <th>2</th>\n",
       "      <th>3</th>\n",
       "      <th>4</th>\n",
       "    </tr>\n",
       "  </thead>\n",
       "  <tbody>\n",
       "    <tr>\n",
       "      <th>summary</th>\n",
       "      <td>count</td>\n",
       "      <td>mean</td>\n",
       "      <td>stddev</td>\n",
       "      <td>min</td>\n",
       "      <td>max</td>\n",
       "    </tr>\n",
       "    <tr>\n",
       "      <th>age</th>\n",
       "      <td>41188</td>\n",
       "      <td>40.02406040594348</td>\n",
       "      <td>10.421249980934045</td>\n",
       "      <td>17</td>\n",
       "      <td>98</td>\n",
       "    </tr>\n",
       "    <tr>\n",
       "      <th>duration</th>\n",
       "      <td>41188</td>\n",
       "      <td>258.2850101971448</td>\n",
       "      <td>259.2792488364655</td>\n",
       "      <td>0</td>\n",
       "      <td>4918</td>\n",
       "    </tr>\n",
       "    <tr>\n",
       "      <th>campaign</th>\n",
       "      <td>41188</td>\n",
       "      <td>2.567592502670681</td>\n",
       "      <td>2.770013542902322</td>\n",
       "      <td>1</td>\n",
       "      <td>56</td>\n",
       "    </tr>\n",
       "    <tr>\n",
       "      <th>pdays</th>\n",
       "      <td>41188</td>\n",
       "      <td>962.4754540157328</td>\n",
       "      <td>186.91090734474153</td>\n",
       "      <td>0</td>\n",
       "      <td>999</td>\n",
       "    </tr>\n",
       "    <tr>\n",
       "      <th>previous</th>\n",
       "      <td>41188</td>\n",
       "      <td>0.17296299893172767</td>\n",
       "      <td>0.49490107983929055</td>\n",
       "      <td>0</td>\n",
       "      <td>7</td>\n",
       "    </tr>\n",
       "    <tr>\n",
       "      <th>emp_var_rate</th>\n",
       "      <td>41188</td>\n",
       "      <td>0.0818855006319146</td>\n",
       "      <td>1.5709597405170326</td>\n",
       "      <td>-3.4</td>\n",
       "      <td>1.4</td>\n",
       "    </tr>\n",
       "    <tr>\n",
       "      <th>cons_price_idx</th>\n",
       "      <td>41188</td>\n",
       "      <td>93.57566436831263</td>\n",
       "      <td>0.5788400489540964</td>\n",
       "      <td>92.201</td>\n",
       "      <td>94.767</td>\n",
       "    </tr>\n",
       "    <tr>\n",
       "      <th>cons_conf_idx</th>\n",
       "      <td>41188</td>\n",
       "      <td>-40.50260027191399</td>\n",
       "      <td>4.628197856174574</td>\n",
       "      <td>-50.8</td>\n",
       "      <td>-26.9</td>\n",
       "    </tr>\n",
       "    <tr>\n",
       "      <th>euribor3m</th>\n",
       "      <td>41188</td>\n",
       "      <td>3.621290812858068</td>\n",
       "      <td>1.7344474048512526</td>\n",
       "      <td>0.634</td>\n",
       "      <td>5.045</td>\n",
       "    </tr>\n",
       "    <tr>\n",
       "      <th>nr_employed</th>\n",
       "      <td>41188</td>\n",
       "      <td>5167.035910941844</td>\n",
       "      <td>72.2515276682639</td>\n",
       "      <td>4963.6</td>\n",
       "      <td>5228.1</td>\n",
       "    </tr>\n",
       "  </tbody>\n",
       "</table>\n",
       "</div>"
      ],
      "text/plain": [
       "                    0                    1                    2       3  \\\n",
       "summary         count                 mean               stddev     min   \n",
       "age             41188    40.02406040594348   10.421249980934045      17   \n",
       "duration        41188    258.2850101971448    259.2792488364655       0   \n",
       "campaign        41188    2.567592502670681    2.770013542902322       1   \n",
       "pdays           41188    962.4754540157328   186.91090734474153       0   \n",
       "previous        41188  0.17296299893172767  0.49490107983929055       0   \n",
       "emp_var_rate    41188   0.0818855006319146   1.5709597405170326    -3.4   \n",
       "cons_price_idx  41188    93.57566436831263   0.5788400489540964  92.201   \n",
       "cons_conf_idx   41188   -40.50260027191399    4.628197856174574   -50.8   \n",
       "euribor3m       41188    3.621290812858068   1.7344474048512526   0.634   \n",
       "nr_employed     41188    5167.035910941844     72.2515276682639  4963.6   \n",
       "\n",
       "                     4  \n",
       "summary            max  \n",
       "age                 98  \n",
       "duration          4918  \n",
       "campaign            56  \n",
       "pdays              999  \n",
       "previous             7  \n",
       "emp_var_rate       1.4  \n",
       "cons_price_idx  94.767  \n",
       "cons_conf_idx    -26.9  \n",
       "euribor3m        5.045  \n",
       "nr_employed     5228.1  "
      ]
     },
     "execution_count": 14,
     "metadata": {},
     "output_type": "execute_result"
    }
   ],
   "source": [
    "numeric_features = [t[0] for t in df.dtypes if t[1] != 'string']\n",
    "df.select(numeric_features).describe().toPandas().transpose()"
   ]
  },
  {
   "cell_type": "code",
   "execution_count": 15,
   "metadata": {},
   "outputs": [
    {
     "name": "stderr",
     "output_type": "stream",
     "text": [
      "/home/ubuntu/.local/lib/python3.5/site-packages/ipykernel_launcher.py:2: FutureWarning: pandas.scatter_matrix is deprecated, use pandas.plotting.scatter_matrix instead\n",
      "  \n"
     ]
    },
    {
     "data": {
      "image/png": "[encoded data removed]",
      "text/plain": [
       "<Figure size 576x576 with 100 Axes>"
      ]
     },
     "metadata": {},
     "output_type": "display_data"
    }
   ],
   "source": [
    "numeric_data = df.select(numeric_features).toPandas()\n",
    "axs = pd.scatter_matrix(numeric_data, figsize=(8, 8));\n",
    "n = len(numeric_data.columns)\n",
    "for i in range(n):\n",
    "    v = axs[i, 0]\n",
    "    v.yaxis.label.set_rotation(0)\n",
    "    v.yaxis.label.set_ha('right')\n",
    "    v.set_yticks(())\n",
    "    h = axs[n-1, i]\n",
    "    h.xaxis.label.set_rotation(90)\n",
    "    h.set_xticks(())"
   ]
  },
  {
   "cell_type": "code",
   "execution_count": 16,
   "metadata": {},
   "outputs": [
    {
     "name": "stdout",
     "output_type": "stream",
     "text": [
      "+-------------+----------+\n",
      "|          job|count(age)|\n",
      "+-------------+----------+\n",
      "|   management|      2924|\n",
      "|      retired|      1720|\n",
      "|      unknown|       330|\n",
      "|self-employed|      1421|\n",
      "|      student|       875|\n",
      "|  blue-collar|      9254|\n",
      "| entrepreneur|      1456|\n",
      "|       admin.|     10422|\n",
      "|   technician|      6743|\n",
      "|     services|      3969|\n",
      "|    housemaid|      1060|\n",
      "|   unemployed|      1014|\n",
      "+-------------+----------+\n",
      "\n"
     ]
    }
   ],
   "source": [
    "df.groupby('job').agg({\"age\":\"avg\",\"age\":\"max\",\"age\":\"count\"}).show()"
   ]
  },
  {
   "cell_type": "code",
   "execution_count": 17,
   "metadata": {},
   "outputs": [
    {
     "name": "stdout",
     "output_type": "stream",
     "text": [
      "+-------------+--------+\n",
      "|          job|min(age)|\n",
      "+-------------+--------+\n",
      "|   management|      21|\n",
      "|      retired|      23|\n",
      "|      unknown|      24|\n",
      "|self-employed|      21|\n",
      "|      student|      17|\n",
      "|  blue-collar|      20|\n",
      "| entrepreneur|      20|\n",
      "|       admin.|      20|\n",
      "|   technician|      20|\n",
      "|     services|      20|\n",
      "|    housemaid|      21|\n",
      "|   unemployed|      21|\n",
      "+-------------+--------+\n",
      "\n"
     ]
    }
   ],
   "source": [
    "df.groupby('job').agg({\"age\":\"avg\",\"age\":\"min\"}).show()"
   ]
  },
  {
   "cell_type": "code",
   "execution_count": 18,
   "metadata": {},
   "outputs": [
    {
     "name": "stdout",
     "output_type": "stream",
     "text": [
      "+-------------+--------+--------+---------+\n",
      "|          job|count(y)|min(age)|max(age1)|\n",
      "+-------------+--------+--------+---------+\n",
      "|   management|    2924|      21|       80|\n",
      "|      retired|    1720|      23|       98|\n",
      "|      unknown|     330|      24|       81|\n",
      "|self-employed|    1421|      21|       71|\n",
      "|      student|     875|      17|       47|\n",
      "|  blue-collar|    9254|      20|       80|\n",
      "| entrepreneur|    1456|      20|       69|\n",
      "|       admin.|   10422|      20|       72|\n",
      "|   technician|    6743|      20|       70|\n",
      "|     services|    3969|      20|       69|\n",
      "|    housemaid|    1060|      21|       85|\n",
      "|   unemployed|    1014|      21|       66|\n",
      "+-------------+--------+--------+---------+\n",
      "\n"
     ]
    }
   ],
   "source": [
    "\n",
    "\n",
    "df_group = df.select('*', (df.age ).alias('age1'))\n",
    "df_group.groupby(\"job\").agg({\"age\":\"min\",\"age1\":\"max\",\"y\":\"count\"}).show()"
   ]
  },
  {
   "cell_type": "code",
   "execution_count": 19,
   "metadata": {},
   "outputs": [
    {
     "name": "stdout",
     "output_type": "stream",
     "text": [
      "+--------+--------+--------+---------+\n",
      "| marital|count(y)|min(age)|max(age1)|\n",
      "+--------+--------+--------+---------+\n",
      "| unknown|      80|      25|       66|\n",
      "|divorced|    4612|      24|       95|\n",
      "| married|   24928|      20|       98|\n",
      "|  single|   11568|      17|       86|\n",
      "+--------+--------+--------+---------+\n",
      "\n"
     ]
    }
   ],
   "source": [
    "\n",
    "df_group.groupby(\"marital\").agg({\"age\":\"min\",\"age1\":\"max\",\"y\":\"count\"}).show()"
   ]
  },
  {
   "cell_type": "code",
   "execution_count": 20,
   "metadata": {},
   "outputs": [
    {
     "name": "stdout",
     "output_type": "stream",
     "text": [
      "+-------------------+--------+--------+---------+\n",
      "|          education|count(y)|min(age)|max(age1)|\n",
      "+-------------------+--------+--------+---------+\n",
      "|        high.school|    9515|      18|       88|\n",
      "|            unknown|    1731|      17|       92|\n",
      "|           basic.6y|    2292|      18|       95|\n",
      "|professional.course|    5243|      20|       86|\n",
      "|  university.degree|   12168|      20|       91|\n",
      "|         illiterate|      18|      34|       80|\n",
      "|           basic.4y|    4176|      18|       98|\n",
      "|           basic.9y|    6045|      17|       94|\n",
      "+-------------------+--------+--------+---------+\n",
      "\n"
     ]
    }
   ],
   "source": [
    "\n",
    "df_group.groupby(\"education\").agg({\"age\":\"min\",\"age1\":\"max\",\"y\":\"count\"}).show()"
   ]
  },
  {
   "cell_type": "code",
   "execution_count": 6,
   "metadata": {},
   "outputs": [],
   "source": [
    "def del_unknown(data):\n",
    "    # fill_attrs = [\"default\"]\n",
    "    del_attrs = ['job','marital','education','housing','loan']\n",
    "    for i in del_attrs: \n",
    "        # delete col containing unknown\n",
    "        data = data[data[i] != \"unknown\"]  \n",
    "    return data"
   ]
  },
  {
   "cell_type": "code",
   "execution_count": 7,
   "metadata": {},
   "outputs": [],
   "source": [
    "#delete unknown data\n",
    "df=del_unknown(df)"
   ]
  },
  {
   "cell_type": "code",
   "execution_count": 8,
   "metadata": {},
   "outputs": [],
   "source": [
    "#convert 'admin.' to 'admin' by add a new field\n",
    "from pyspark.sql.functions import col, when\n",
    "\n",
    "valueWhenTrue = \"admin\"  # for example\n",
    "\n",
    "df=df.withColumn(\n",
    "    \"job_new\",\n",
    "    when(\n",
    "        col(\"job\") == \"admin.\",\n",
    "        valueWhenTrue\n",
    "    ).otherwise(col(\"job\"))\n",
    ")"
   ]
  },
  {
   "cell_type": "code",
   "execution_count": 9,
   "metadata": {},
   "outputs": [
    {
     "name": "stdout",
     "output_type": "stream",
     "text": [
      "+-------------+--------+\n",
      "|      job_new|count(y)|\n",
      "+-------------+--------+\n",
      "|   management|    2728|\n",
      "|      retired|    1577|\n",
      "|self-employed|    1349|\n",
      "|      student|     688|\n",
      "|  blue-collar|    8560|\n",
      "| entrepreneur|    1360|\n",
      "|   technician|    6380|\n",
      "|        admin|    9937|\n",
      "|     services|    3716|\n",
      "|    housemaid|     987|\n",
      "|   unemployed|     963|\n",
      "+-------------+--------+\n",
      "\n"
     ]
    }
   ],
   "source": [
    "df.groupby(\"job_new\").agg({\"y\":\"count\"}).show()"
   ]
  },
  {
   "cell_type": "code",
   "execution_count": 10,
   "metadata": {},
   "outputs": [],
   "source": [
    "#discard  age <=50 and job='retired'\n",
    "df=df.filter((df['age']>50) |(df['job']!='retired'))"
   ]
  },
  {
   "cell_type": "code",
   "execution_count": 11,
   "metadata": {},
   "outputs": [
    {
     "data": {
      "text/html": [
       "<div>\n",
       "<style scoped>\n",
       "    .dataframe tbody tr th:only-of-type {\n",
       "        vertical-align: middle;\n",
       "    }\n",
       "\n",
       "    .dataframe tbody tr th {\n",
       "        vertical-align: top;\n",
       "    }\n",
       "\n",
       "    .dataframe thead th {\n",
       "        text-align: right;\n",
       "    }\n",
       "</style>\n",
       "<table border=\"1\" class=\"dataframe\">\n",
       "  <thead>\n",
       "    <tr style=\"text-align: right;\">\n",
       "      <th></th>\n",
       "      <th>0</th>\n",
       "      <th>1</th>\n",
       "      <th>2</th>\n",
       "      <th>3</th>\n",
       "      <th>4</th>\n",
       "    </tr>\n",
       "  </thead>\n",
       "  <tbody>\n",
       "    <tr>\n",
       "      <th>summary</th>\n",
       "      <td>count</td>\n",
       "      <td>mean</td>\n",
       "      <td>stddev</td>\n",
       "      <td>min</td>\n",
       "      <td>max</td>\n",
       "    </tr>\n",
       "    <tr>\n",
       "      <th>age</th>\n",
       "      <td>38131</td>\n",
       "      <td>39.85025307492592</td>\n",
       "      <td>10.298119756703919</td>\n",
       "      <td>17</td>\n",
       "      <td>98</td>\n",
       "    </tr>\n",
       "    <tr>\n",
       "      <th>job</th>\n",
       "      <td>38131</td>\n",
       "      <td>None</td>\n",
       "      <td>None</td>\n",
       "      <td>admin.</td>\n",
       "      <td>unemployed</td>\n",
       "    </tr>\n",
       "    <tr>\n",
       "      <th>marital</th>\n",
       "      <td>38131</td>\n",
       "      <td>None</td>\n",
       "      <td>None</td>\n",
       "      <td>divorced</td>\n",
       "      <td>single</td>\n",
       "    </tr>\n",
       "    <tr>\n",
       "      <th>education</th>\n",
       "      <td>38131</td>\n",
       "      <td>None</td>\n",
       "      <td>None</td>\n",
       "      <td>basic.4y</td>\n",
       "      <td>university.degree</td>\n",
       "    </tr>\n",
       "    <tr>\n",
       "      <th>default</th>\n",
       "      <td>38131</td>\n",
       "      <td>None</td>\n",
       "      <td>None</td>\n",
       "      <td>no</td>\n",
       "      <td>yes</td>\n",
       "    </tr>\n",
       "    <tr>\n",
       "      <th>housing</th>\n",
       "      <td>38131</td>\n",
       "      <td>None</td>\n",
       "      <td>None</td>\n",
       "      <td>no</td>\n",
       "      <td>yes</td>\n",
       "    </tr>\n",
       "    <tr>\n",
       "      <th>loan</th>\n",
       "      <td>38131</td>\n",
       "      <td>None</td>\n",
       "      <td>None</td>\n",
       "      <td>no</td>\n",
       "      <td>yes</td>\n",
       "    </tr>\n",
       "    <tr>\n",
       "      <th>contact</th>\n",
       "      <td>38131</td>\n",
       "      <td>None</td>\n",
       "      <td>None</td>\n",
       "      <td>cellular</td>\n",
       "      <td>telephone</td>\n",
       "    </tr>\n",
       "    <tr>\n",
       "      <th>month</th>\n",
       "      <td>38131</td>\n",
       "      <td>None</td>\n",
       "      <td>None</td>\n",
       "      <td>apr</td>\n",
       "      <td>sep</td>\n",
       "    </tr>\n",
       "    <tr>\n",
       "      <th>day_of_week</th>\n",
       "      <td>38131</td>\n",
       "      <td>None</td>\n",
       "      <td>None</td>\n",
       "      <td>fri</td>\n",
       "      <td>wed</td>\n",
       "    </tr>\n",
       "    <tr>\n",
       "      <th>duration</th>\n",
       "      <td>38131</td>\n",
       "      <td>258.146337625554</td>\n",
       "      <td>259.63322702174</td>\n",
       "      <td>0</td>\n",
       "      <td>4918</td>\n",
       "    </tr>\n",
       "    <tr>\n",
       "      <th>campaign</th>\n",
       "      <td>38131</td>\n",
       "      <td>2.5647373528100497</td>\n",
       "      <td>2.7585070756202112</td>\n",
       "      <td>1</td>\n",
       "      <td>43</td>\n",
       "    </tr>\n",
       "    <tr>\n",
       "      <th>pdays</th>\n",
       "      <td>38131</td>\n",
       "      <td>963.42561170701</td>\n",
       "      <td>184.56032908881068</td>\n",
       "      <td>0</td>\n",
       "      <td>999</td>\n",
       "    </tr>\n",
       "    <tr>\n",
       "      <th>previous</th>\n",
       "      <td>38131</td>\n",
       "      <td>0.1702551729563872</td>\n",
       "      <td>0.48763099451600755</td>\n",
       "      <td>0</td>\n",
       "      <td>7</td>\n",
       "    </tr>\n",
       "    <tr>\n",
       "      <th>poutcome</th>\n",
       "      <td>38131</td>\n",
       "      <td>None</td>\n",
       "      <td>None</td>\n",
       "      <td>failure</td>\n",
       "      <td>success</td>\n",
       "    </tr>\n",
       "    <tr>\n",
       "      <th>emp_var_rate</th>\n",
       "      <td>38131</td>\n",
       "      <td>0.08173402218729195</td>\n",
       "      <td>1.5665049585352337</td>\n",
       "      <td>-3.4</td>\n",
       "      <td>1.4</td>\n",
       "    </tr>\n",
       "    <tr>\n",
       "      <th>cons_price_idx</th>\n",
       "      <td>38131</td>\n",
       "      <td>93.56985507858322</td>\n",
       "      <td>0.5764176326297035</td>\n",
       "      <td>92.201</td>\n",
       "      <td>94.767</td>\n",
       "    </tr>\n",
       "    <tr>\n",
       "      <th>cons_conf_idx</th>\n",
       "      <td>38131</td>\n",
       "      <td>-40.53906794995167</td>\n",
       "      <td>4.625273648101946</td>\n",
       "      <td>-50.8</td>\n",
       "      <td>-26.9</td>\n",
       "    </tr>\n",
       "    <tr>\n",
       "      <th>euribor3m</th>\n",
       "      <td>38131</td>\n",
       "      <td>3.622081193779311</td>\n",
       "      <td>1.7307153522889096</td>\n",
       "      <td>0.634</td>\n",
       "      <td>5.045</td>\n",
       "    </tr>\n",
       "    <tr>\n",
       "      <th>nr_employed</th>\n",
       "      <td>38131</td>\n",
       "      <td>5167.381172795445</td>\n",
       "      <td>71.79092450788913</td>\n",
       "      <td>4963.6</td>\n",
       "      <td>5228.1</td>\n",
       "    </tr>\n",
       "    <tr>\n",
       "      <th>y</th>\n",
       "      <td>38131</td>\n",
       "      <td>None</td>\n",
       "      <td>None</td>\n",
       "      <td>no</td>\n",
       "      <td>yes</td>\n",
       "    </tr>\n",
       "    <tr>\n",
       "      <th>job_new</th>\n",
       "      <td>38131</td>\n",
       "      <td>None</td>\n",
       "      <td>None</td>\n",
       "      <td>admin</td>\n",
       "      <td>unemployed</td>\n",
       "    </tr>\n",
       "  </tbody>\n",
       "</table>\n",
       "</div>"
      ],
      "text/plain": [
       "                    0                    1                    2         3  \\\n",
       "summary         count                 mean               stddev       min   \n",
       "age             38131    39.85025307492592   10.298119756703919        17   \n",
       "job             38131                 None                 None    admin.   \n",
       "marital         38131                 None                 None  divorced   \n",
       "education       38131                 None                 None  basic.4y   \n",
       "default         38131                 None                 None        no   \n",
       "housing         38131                 None                 None        no   \n",
       "loan            38131                 None                 None        no   \n",
       "contact         38131                 None                 None  cellular   \n",
       "month           38131                 None                 None       apr   \n",
       "day_of_week     38131                 None                 None       fri   \n",
       "duration        38131     258.146337625554      259.63322702174         0   \n",
       "campaign        38131   2.5647373528100497   2.7585070756202112         1   \n",
       "pdays           38131      963.42561170701   184.56032908881068         0   \n",
       "previous        38131   0.1702551729563872  0.48763099451600755         0   \n",
       "poutcome        38131                 None                 None   failure   \n",
       "emp_var_rate    38131  0.08173402218729195   1.5665049585352337      -3.4   \n",
       "cons_price_idx  38131    93.56985507858322   0.5764176326297035    92.201   \n",
       "cons_conf_idx   38131   -40.53906794995167    4.625273648101946     -50.8   \n",
       "euribor3m       38131    3.622081193779311   1.7307153522889096     0.634   \n",
       "nr_employed     38131    5167.381172795445    71.79092450788913    4963.6   \n",
       "y               38131                 None                 None        no   \n",
       "job_new         38131                 None                 None     admin   \n",
       "\n",
       "                                4  \n",
       "summary                       max  \n",
       "age                            98  \n",
       "job                    unemployed  \n",
       "marital                    single  \n",
       "education       university.degree  \n",
       "default                       yes  \n",
       "housing                       yes  \n",
       "loan                          yes  \n",
       "contact                 telephone  \n",
       "month                         sep  \n",
       "day_of_week                   wed  \n",
       "duration                     4918  \n",
       "campaign                       43  \n",
       "pdays                         999  \n",
       "previous                        7  \n",
       "poutcome                  success  \n",
       "emp_var_rate                  1.4  \n",
       "cons_price_idx             94.767  \n",
       "cons_conf_idx               -26.9  \n",
       "euribor3m                   5.045  \n",
       "nr_employed                5228.1  \n",
       "y                             yes  \n",
       "job_new                unemployed  "
      ]
     },
     "execution_count": 11,
     "metadata": {},
     "output_type": "execute_result"
    }
   ],
   "source": [
    "df.describe().toPandas().transpose()"
   ]
  },
  {
   "cell_type": "code",
   "execution_count": 12,
   "metadata": {},
   "outputs": [],
   "source": [
    "#add an ID field\n",
    "from pyspark.sql.functions import monotonically_increasing_id \n",
    "\n",
    "df = df.select(\"*\").withColumn(\"id\", monotonically_increasing_id())"
   ]
  },
  {
   "cell_type": "code",
   "execution_count": 13,
   "metadata": {},
   "outputs": [
    {
     "name": "stdout",
     "output_type": "stream",
     "text": [
      "+-------------------+----------+\n",
      "|          education|count(age)|\n",
      "+-------------------+----------+\n",
      "|        high.school|      9227|\n",
      "|           basic.6y|      2194|\n",
      "|professional.course|      5088|\n",
      "|  university.degree|     11813|\n",
      "|         illiterate|        16|\n",
      "|           basic.4y|      3962|\n",
      "|           basic.9y|      5831|\n",
      "+-------------------+----------+\n",
      "\n"
     ]
    }
   ],
   "source": [
    "df.groupby(\"education\").agg({\"age\":\"count\"}).show()"
   ]
  },
  {
   "cell_type": "code",
   "execution_count": 14,
   "metadata": {},
   "outputs": [],
   "source": [
    "#convert education field\n",
    "from pyspark.sql.functions import udf \n",
    "dicEducation={'illiterate':0,'basic.4y':1,'basic.6y':1,'basic.9y':2,\n",
    "                                'high.school' :2, 'professional.course' :3, \n",
    "                                'university.degree' :3}\n",
    "def SimpleEducation(oldEducation):\n",
    "    return dicEducation[oldEducation] \n",
    "\n",
    "from pyspark.sql.types import IntegerType\n",
    "square_udf_education = udf(lambda z: SimpleEducation(z), IntegerType())\n",
    "df = df.select(\"*\").withColumn(\"education_new\", square_udf_education(df[\"education\"]))"
   ]
  },
  {
   "cell_type": "code",
   "execution_count": 15,
   "metadata": {},
   "outputs": [
    {
     "data": {
      "text/html": [
       "<div>\n",
       "<style scoped>\n",
       "    .dataframe tbody tr th:only-of-type {\n",
       "        vertical-align: middle;\n",
       "    }\n",
       "\n",
       "    .dataframe tbody tr th {\n",
       "        vertical-align: top;\n",
       "    }\n",
       "\n",
       "    .dataframe thead th {\n",
       "        text-align: right;\n",
       "    }\n",
       "</style>\n",
       "<table border=\"1\" class=\"dataframe\">\n",
       "  <thead>\n",
       "    <tr style=\"text-align: right;\">\n",
       "      <th></th>\n",
       "      <th>0</th>\n",
       "      <th>1</th>\n",
       "      <th>2</th>\n",
       "      <th>3</th>\n",
       "      <th>4</th>\n",
       "    </tr>\n",
       "  </thead>\n",
       "  <tbody>\n",
       "    <tr>\n",
       "      <th>age</th>\n",
       "      <td>56</td>\n",
       "      <td>57</td>\n",
       "      <td>37</td>\n",
       "      <td>40</td>\n",
       "      <td>56</td>\n",
       "    </tr>\n",
       "    <tr>\n",
       "      <th>job</th>\n",
       "      <td>housemaid</td>\n",
       "      <td>services</td>\n",
       "      <td>services</td>\n",
       "      <td>admin.</td>\n",
       "      <td>services</td>\n",
       "    </tr>\n",
       "    <tr>\n",
       "      <th>marital</th>\n",
       "      <td>married</td>\n",
       "      <td>married</td>\n",
       "      <td>married</td>\n",
       "      <td>married</td>\n",
       "      <td>married</td>\n",
       "    </tr>\n",
       "    <tr>\n",
       "      <th>education</th>\n",
       "      <td>basic.4y</td>\n",
       "      <td>high.school</td>\n",
       "      <td>high.school</td>\n",
       "      <td>basic.6y</td>\n",
       "      <td>high.school</td>\n",
       "    </tr>\n",
       "    <tr>\n",
       "      <th>default</th>\n",
       "      <td>no</td>\n",
       "      <td>unknown</td>\n",
       "      <td>no</td>\n",
       "      <td>no</td>\n",
       "      <td>no</td>\n",
       "    </tr>\n",
       "    <tr>\n",
       "      <th>housing</th>\n",
       "      <td>no</td>\n",
       "      <td>no</td>\n",
       "      <td>yes</td>\n",
       "      <td>no</td>\n",
       "      <td>no</td>\n",
       "    </tr>\n",
       "    <tr>\n",
       "      <th>loan</th>\n",
       "      <td>no</td>\n",
       "      <td>no</td>\n",
       "      <td>no</td>\n",
       "      <td>no</td>\n",
       "      <td>yes</td>\n",
       "    </tr>\n",
       "    <tr>\n",
       "      <th>contact</th>\n",
       "      <td>telephone</td>\n",
       "      <td>telephone</td>\n",
       "      <td>telephone</td>\n",
       "      <td>telephone</td>\n",
       "      <td>telephone</td>\n",
       "    </tr>\n",
       "    <tr>\n",
       "      <th>month</th>\n",
       "      <td>may</td>\n",
       "      <td>may</td>\n",
       "      <td>may</td>\n",
       "      <td>may</td>\n",
       "      <td>may</td>\n",
       "    </tr>\n",
       "    <tr>\n",
       "      <th>day_of_week</th>\n",
       "      <td>mon</td>\n",
       "      <td>mon</td>\n",
       "      <td>mon</td>\n",
       "      <td>mon</td>\n",
       "      <td>mon</td>\n",
       "    </tr>\n",
       "    <tr>\n",
       "      <th>duration</th>\n",
       "      <td>261</td>\n",
       "      <td>149</td>\n",
       "      <td>226</td>\n",
       "      <td>151</td>\n",
       "      <td>307</td>\n",
       "    </tr>\n",
       "    <tr>\n",
       "      <th>campaign</th>\n",
       "      <td>1</td>\n",
       "      <td>1</td>\n",
       "      <td>1</td>\n",
       "      <td>1</td>\n",
       "      <td>1</td>\n",
       "    </tr>\n",
       "    <tr>\n",
       "      <th>pdays</th>\n",
       "      <td>999</td>\n",
       "      <td>999</td>\n",
       "      <td>999</td>\n",
       "      <td>999</td>\n",
       "      <td>999</td>\n",
       "    </tr>\n",
       "    <tr>\n",
       "      <th>previous</th>\n",
       "      <td>0</td>\n",
       "      <td>0</td>\n",
       "      <td>0</td>\n",
       "      <td>0</td>\n",
       "      <td>0</td>\n",
       "    </tr>\n",
       "    <tr>\n",
       "      <th>poutcome</th>\n",
       "      <td>nonexistent</td>\n",
       "      <td>nonexistent</td>\n",
       "      <td>nonexistent</td>\n",
       "      <td>nonexistent</td>\n",
       "      <td>nonexistent</td>\n",
       "    </tr>\n",
       "    <tr>\n",
       "      <th>emp_var_rate</th>\n",
       "      <td>1.1</td>\n",
       "      <td>1.1</td>\n",
       "      <td>1.1</td>\n",
       "      <td>1.1</td>\n",
       "      <td>1.1</td>\n",
       "    </tr>\n",
       "    <tr>\n",
       "      <th>cons_price_idx</th>\n",
       "      <td>93.994</td>\n",
       "      <td>93.994</td>\n",
       "      <td>93.994</td>\n",
       "      <td>93.994</td>\n",
       "      <td>93.994</td>\n",
       "    </tr>\n",
       "    <tr>\n",
       "      <th>cons_conf_idx</th>\n",
       "      <td>-36.4</td>\n",
       "      <td>-36.4</td>\n",
       "      <td>-36.4</td>\n",
       "      <td>-36.4</td>\n",
       "      <td>-36.4</td>\n",
       "    </tr>\n",
       "    <tr>\n",
       "      <th>euribor3m</th>\n",
       "      <td>4.857</td>\n",
       "      <td>4.857</td>\n",
       "      <td>4.857</td>\n",
       "      <td>4.857</td>\n",
       "      <td>4.857</td>\n",
       "    </tr>\n",
       "    <tr>\n",
       "      <th>nr_employed</th>\n",
       "      <td>5191</td>\n",
       "      <td>5191</td>\n",
       "      <td>5191</td>\n",
       "      <td>5191</td>\n",
       "      <td>5191</td>\n",
       "    </tr>\n",
       "    <tr>\n",
       "      <th>y</th>\n",
       "      <td>no</td>\n",
       "      <td>no</td>\n",
       "      <td>no</td>\n",
       "      <td>no</td>\n",
       "      <td>no</td>\n",
       "    </tr>\n",
       "    <tr>\n",
       "      <th>job_new</th>\n",
       "      <td>housemaid</td>\n",
       "      <td>services</td>\n",
       "      <td>services</td>\n",
       "      <td>admin</td>\n",
       "      <td>services</td>\n",
       "    </tr>\n",
       "    <tr>\n",
       "      <th>id</th>\n",
       "      <td>0</td>\n",
       "      <td>1</td>\n",
       "      <td>2</td>\n",
       "      <td>3</td>\n",
       "      <td>4</td>\n",
       "    </tr>\n",
       "    <tr>\n",
       "      <th>education_new</th>\n",
       "      <td>1</td>\n",
       "      <td>2</td>\n",
       "      <td>2</td>\n",
       "      <td>1</td>\n",
       "      <td>2</td>\n",
       "    </tr>\n",
       "  </tbody>\n",
       "</table>\n",
       "</div>"
      ],
      "text/plain": [
       "                          0            1            2            3  \\\n",
       "age                      56           57           37           40   \n",
       "job               housemaid     services     services       admin.   \n",
       "marital             married      married      married      married   \n",
       "education          basic.4y  high.school  high.school     basic.6y   \n",
       "default                  no      unknown           no           no   \n",
       "housing                  no           no          yes           no   \n",
       "loan                     no           no           no           no   \n",
       "contact           telephone    telephone    telephone    telephone   \n",
       "month                   may          may          may          may   \n",
       "day_of_week             mon          mon          mon          mon   \n",
       "duration                261          149          226          151   \n",
       "campaign                  1            1            1            1   \n",
       "pdays                   999          999          999          999   \n",
       "previous                  0            0            0            0   \n",
       "poutcome        nonexistent  nonexistent  nonexistent  nonexistent   \n",
       "emp_var_rate            1.1          1.1          1.1          1.1   \n",
       "cons_price_idx       93.994       93.994       93.994       93.994   \n",
       "cons_conf_idx         -36.4        -36.4        -36.4        -36.4   \n",
       "euribor3m             4.857        4.857        4.857        4.857   \n",
       "nr_employed            5191         5191         5191         5191   \n",
       "y                        no           no           no           no   \n",
       "job_new           housemaid     services     services        admin   \n",
       "id                        0            1            2            3   \n",
       "education_new             1            2            2            1   \n",
       "\n",
       "                          4  \n",
       "age                      56  \n",
       "job                services  \n",
       "marital             married  \n",
       "education       high.school  \n",
       "default                  no  \n",
       "housing                  no  \n",
       "loan                    yes  \n",
       "contact           telephone  \n",
       "month                   may  \n",
       "day_of_week             mon  \n",
       "duration                307  \n",
       "campaign                  1  \n",
       "pdays                   999  \n",
       "previous                  0  \n",
       "poutcome        nonexistent  \n",
       "emp_var_rate            1.1  \n",
       "cons_price_idx       93.994  \n",
       "cons_conf_idx         -36.4  \n",
       "euribor3m             4.857  \n",
       "nr_employed            5191  \n",
       "y                        no  \n",
       "job_new            services  \n",
       "id                        4  \n",
       "education_new             2  "
      ]
     },
     "execution_count": 15,
     "metadata": {},
     "output_type": "execute_result"
    }
   ],
   "source": [
    "pd.DataFrame(df.take(5), columns=df.columns).transpose()"
   ]
  },
  {
   "cell_type": "code",
   "execution_count": 16,
   "metadata": {},
   "outputs": [],
   "source": [
    "#format data 'default','housing','loan','job_new','contact','month','day_of_week','poutcome','marital'\n",
    "from pyspark.ml import Pipeline\n",
    "from pyspark.ml.feature import (VectorAssembler,VectorIndexer,OneHotEncoder,StringIndexer)\n",
    "\n",
    "indexers = [StringIndexer(inputCol=column, outputCol=   \"d_\"+column).fit(df) for column in\n",
    "                    ['default','housing','loan','job_new','contact','month','day_of_week','poutcome','marital']]\n",
    "\n",
    "\n",
    "pipeline = Pipeline(stages=indexers)\n",
    "df = pipeline.fit(df).transform(df)"
   ]
  },
  {
   "cell_type": "code",
   "execution_count": 17,
   "metadata": {},
   "outputs": [],
   "source": [
    "#format data 'd_job_new','d_marital','d_poutcome' \n",
    "job_encoder = OneHotEncoder(inputCol='d_job_new',outputCol='jobVec')\n",
    "marital_encoder = OneHotEncoder(inputCol='d_marital',outputCol='maritalVec')   \n",
    "poutcome_encoder = OneHotEncoder(inputCol='d_poutcome',outputCol='poutcomeVec')\n",
    "stages=[job_encoder,marital_encoder,poutcome_encoder]\n",
    "pipeline = Pipeline(stages=stages)\n",
    "df = pipeline.fit(df).transform(df)"
   ]
  },
  {
   "cell_type": "code",
   "execution_count": 18,
   "metadata": {},
   "outputs": [],
   "source": [
    "# convert \"yes\" to 1 and \"no\" to 0 by add new field d_y\n",
    "df=df.withColumn(\n",
    "    \"d_y\",\n",
    "    when(\n",
    "        col(\"y\") == \"yes\",\n",
    "        1\n",
    "    ).otherwise(0)\n",
    ")"
   ]
  },
  {
   "cell_type": "code",
   "execution_count": 19,
   "metadata": {},
   "outputs": [
    {
     "name": "stdout",
     "output_type": "stream",
     "text": [
      "root\n",
      " |-- age: integer (nullable = true)\n",
      " |-- job: string (nullable = true)\n",
      " |-- marital: string (nullable = true)\n",
      " |-- education: string (nullable = true)\n",
      " |-- default: string (nullable = true)\n",
      " |-- housing: string (nullable = true)\n",
      " |-- loan: string (nullable = true)\n",
      " |-- contact: string (nullable = true)\n",
      " |-- month: string (nullable = true)\n",
      " |-- day_of_week: string (nullable = true)\n",
      " |-- duration: integer (nullable = true)\n",
      " |-- campaign: integer (nullable = true)\n",
      " |-- pdays: integer (nullable = true)\n",
      " |-- previous: integer (nullable = true)\n",
      " |-- poutcome: string (nullable = true)\n",
      " |-- emp_var_rate: double (nullable = true)\n",
      " |-- cons_price_idx: double (nullable = true)\n",
      " |-- cons_conf_idx: double (nullable = true)\n",
      " |-- euribor3m: double (nullable = true)\n",
      " |-- nr_employed: double (nullable = true)\n",
      " |-- y: string (nullable = true)\n",
      " |-- job_new: string (nullable = true)\n",
      " |-- id: long (nullable = false)\n",
      " |-- education_new: integer (nullable = true)\n",
      " |-- d_default: double (nullable = true)\n",
      " |-- d_housing: double (nullable = true)\n",
      " |-- d_loan: double (nullable = true)\n",
      " |-- d_job_new: double (nullable = true)\n",
      " |-- d_contact: double (nullable = true)\n",
      " |-- d_month: double (nullable = true)\n",
      " |-- d_day_of_week: double (nullable = true)\n",
      " |-- d_poutcome: double (nullable = true)\n",
      " |-- d_marital: double (nullable = true)\n",
      " |-- jobVec: vector (nullable = true)\n",
      " |-- maritalVec: vector (nullable = true)\n",
      " |-- poutcomeVec: vector (nullable = true)\n",
      " |-- d_y: integer (nullable = false)\n",
      "\n"
     ]
    }
   ],
   "source": [
    "df.printSchema()"
   ]
  },
  {
   "cell_type": "code",
   "execution_count": 20,
   "metadata": {},
   "outputs": [],
   "source": [
    "#reduce fields\n",
    "df=df.drop(\"job_new\").drop(\"job\").drop(\"marital\").drop(\"education\").drop(\"default\").drop(\"housing\").drop(\"loan\")\n",
    "df=df.drop(\"contact\").drop(\"month\").drop(\"day_of_week\").drop(\"poutcome\") "
   ]
  },
  {
   "cell_type": "code",
   "execution_count": 21,
   "metadata": {},
   "outputs": [],
   "source": [
    "df=df.drop(\"d_housing\").drop(\"d_day_of_week\").drop(\"d_loan\") "
   ]
  },
  {
   "cell_type": "code",
   "execution_count": 22,
   "metadata": {},
   "outputs": [],
   "source": [
    "#generate features field\n",
    "from pyspark.ml.feature import VectorAssembler \n",
    "assemblerInputs = ['age', 'duration', 'campaign', 'pdays', 'previous', 'emp_var_rate'\n",
    "              ,'cons_price_idx', 'cons_conf_idx', 'euribor3m', 'nr_employed', 'education_new', 'd_default'\n",
    "              ,'jobVec', 'd_contact', 'd_month', 'poutcomeVec', 'maritalVec' ]  \n",
    "assembler = VectorAssembler(inputCols=assemblerInputs, outputCol=\"features\")\n",
    "df = assembler.transform(df)"
   ]
  },
  {
   "cell_type": "code",
   "execution_count": 23,
   "metadata": {},
   "outputs": [],
   "source": [
    "#get field position and fieldName in feature column\n",
    "fields=[x[\"name\"] for x in sorted(df.schema[\"features\"].metadata[\"ml_attr\"][\"attrs\"][\"binary\"]+\n",
    "   df.schema[\"features\"].metadata[\"ml_attr\"][\"attrs\"][\"numeric\"]+df.schema[\"features\"].metadata[\"ml_attr\"][\"attrs\"][\"nominal\"], \n",
    "   key=lambda x: x[\"idx\"])]"
   ]
  },
  {
   "cell_type": "code",
   "execution_count": 24,
   "metadata": {},
   "outputs": [
    {
     "name": "stdout",
     "output_type": "stream",
     "text": [
      "Training Dataset Count: 34244\n",
      "Test Dataset Count: 3887\n"
     ]
    }
   ],
   "source": [
    "#split train and test data\n",
    "train, test = df.randomSplit([0.9, 0.1], seed = 1234)\n",
    "print(\"Training Dataset Count: \" + str(train.count()))\n",
    "print(\"Test Dataset Count: \" + str(test.count()))"
   ]
  },
  {
   "cell_type": "code",
   "execution_count": 25,
   "metadata": {},
   "outputs": [
    {
     "name": "stdout",
     "output_type": "stream",
     "text": [
      "+---+----------+\n",
      "|d_y|count(age)|\n",
      "+---+----------+\n",
      "|  1|      4250|\n",
      "|  0|     33881|\n",
      "+---+----------+\n",
      "\n"
     ]
    }
   ],
   "source": [
    "df.groupby(\"d_y\").agg({\"age\":\"count\"}).show()"
   ]
  },
  {
   "cell_type": "code",
   "execution_count": 26,
   "metadata": {},
   "outputs": [
    {
     "name": "stdout",
     "output_type": "stream",
     "text": [
      "+---+--------+--------+-----+--------+------------+--------------+-------------+---------+-----------+---+---+-------------+---------+---------+---------+-------+----------+---------+--------------+-------------+-------------+---+--------------------+\n",
      "|age|duration|campaign|pdays|previous|emp_var_rate|cons_price_idx|cons_conf_idx|euribor3m|nr_employed|  y| id|education_new|d_default|d_job_new|d_contact|d_month|d_poutcome|d_marital|        jobVec|   maritalVec|  poutcomeVec|d_y|            features|\n",
      "+---+--------+--------+-----+--------+------------+--------------+-------------+---------+-----------+---+---+-------------+---------+---------+---------+-------+----------+---------+--------------+-------------+-------------+---+--------------------+\n",
      "| 56|     261|       1|  999|       0|         1.1|        93.994|        -36.4|    4.857|     5191.0| no|  0|            1|      0.0|      8.0|      1.0|    0.0|       0.0|      0.0|(10,[8],[1.0])|(2,[0],[1.0])|(2,[0],[1.0])|  0|(28,[0,1,2,3,5,6,...|\n",
      "+---+--------+--------+-----+--------+------------+--------------+-------------+---------+-----------+---+---+-------------+---------+---------+---------+-------+----------+---------+--------------+-------------+-------------+---+--------------------+\n",
      "only showing top 1 row\n",
      "\n"
     ]
    }
   ],
   "source": [
    "df.show(1)"
   ]
  },
  {
   "cell_type": "code",
   "execution_count": 27,
   "metadata": {},
   "outputs": [
    {
     "name": "stdout",
     "output_type": "stream",
     "text": [
      "+---+----------+\n",
      "|d_y|count(age)|\n",
      "+---+----------+\n",
      "|  1|      3815|\n",
      "|  0|     30429|\n",
      "+---+----------+\n",
      "\n"
     ]
    }
   ],
   "source": [
    "train.groupby(\"d_y\").agg({\"age\":\"count\"}).show()"
   ]
  },
  {
   "cell_type": "code",
   "execution_count": 28,
   "metadata": {},
   "outputs": [],
   "source": [
    "#balance train data\n",
    "trainY=train.filter(\"d_y=1\").count()*1.0\n",
    "trainN=train.filter(\"d_y=0\").count()*1.0\n",
    "train = train.sampleBy('d_y', fractions={0: trainY/trainN, 1: 1.0}).cache()\n"
   ]
  },
  {
   "cell_type": "code",
   "execution_count": 29,
   "metadata": {},
   "outputs": [
    {
     "name": "stdout",
     "output_type": "stream",
     "text": [
      "+---+----------+\n",
      "|d_y|count(age)|\n",
      "+---+----------+\n",
      "|  1|      3815|\n",
      "|  0|      3809|\n",
      "+---+----------+\n",
      "\n"
     ]
    }
   ],
   "source": [
    "train.groupby(\"d_y\").agg({\"age\":\"count\"}).show()"
   ]
  },
  {
   "cell_type": "code",
   "execution_count": 30,
   "metadata": {},
   "outputs": [
    {
     "data": {
      "image/png": "[encoded data removed]",
      "text/plain": [
       "<Figure size 432x288 with 1 Axes>"
      ]
     },
     "metadata": {},
     "output_type": "display_data"
    },
    {
     "name": "stdout",
     "output_type": "stream",
     "text": [
      "Area Under the Curve: 0.9371360804670059\n",
      "LogisticRegression accuracy: 0.8590172369436584\n",
      "+---------+-----------+--------------------+\n",
      "|OriginYes|Total_Count|Prediction_Yes_Count|\n",
      "+---------+-----------+--------------------+\n",
      "|        1|        435|               375.0|\n",
      "|        0|       3452|               488.0|\n",
      "+---------+-----------+--------------------+\n",
      "\n"
     ]
    }
   ],
   "source": [
    "# try LogisticRegression\n",
    "from pyspark.sql.functions import max,sum,count\n",
    "from pyspark.ml.classification import LogisticRegression  \n",
    "import matplotlib.pyplot as plt\n",
    "import numpy as np\n",
    "# Instantiate the model.\n",
    "lr_model = LogisticRegression(featuresCol='features',labelCol='d_y') \n",
    "# Fit the model.\n",
    "lr_model = lr_model.fit(train) \n",
    "# And evaluate the model using the test data.\n",
    "lr_result = lr_model.transform(test)\n",
    "# Let's get a summary of the data.\n",
    "training_summary = lr_model.summary \n",
    "ROC = training_summary.roc.toPandas() \n",
    "plt.plot(ROC['FPR'],ROC['TPR'])\n",
    "\n",
    "# Define the labels.\n",
    "plt.ylabel('True Positive Rate')\n",
    "plt.xlabel('False Positive Rate')\n",
    "plt.title('LogisticRegression ROC Curve')\n",
    "plt.show()\n",
    "\n",
    "# Print the AUC statistic. \n",
    "print('Area Under the Curve: ' + str(training_summary.areaUnderROC))\n",
    "from pyspark.ml.evaluation import MulticlassClassificationEvaluator\n",
    "evaluator = MulticlassClassificationEvaluator(\n",
    "    labelCol=\"d_y\", predictionCol=\"prediction\",metricName=\"accuracy\")\n",
    "lr_accuracy = evaluator.evaluate(lr_result)\n",
    "\n",
    "print('LogisticRegression accuracy: ' + str(lr_accuracy))\n",
    "\n",
    "lr_result.groupBy(lr_result['d_y'].alias('OriginYes')).agg(count(\"age\").alias(\"Total_Count\"),sum(\"prediction\").alias(\"Prediction_Yes_Count\")).show()"
   ]
  },
  {
   "cell_type": "code",
   "execution_count": 31,
   "metadata": {},
   "outputs": [
    {
     "name": "stdout",
     "output_type": "stream",
     "text": [
      "DecisionTree accuracy: 0.8484692564960123\n",
      "+---------+-----------+--------------------+\n",
      "|OriginYes|Total_Count|Prediction_Yes_Count|\n",
      "+---------+-----------+--------------------+\n",
      "|        1|        435|               382.0|\n",
      "|        0|       3452|               536.0|\n",
      "+---------+-----------+--------------------+\n",
      "\n"
     ]
    }
   ],
   "source": [
    "# try DecisionTreeClassifier\n",
    "from pyspark.ml import Pipeline\n",
    "from pyspark.ml.classification import DecisionTreeClassifier\n",
    "from pyspark.ml.feature import StringIndexer, VectorIndexer\n",
    "from pyspark.ml.evaluation import MulticlassClassificationEvaluator\n",
    " \n",
    " \n",
    "# Train a DecisionTree model.\n",
    "dt = DecisionTreeClassifier(labelCol=\"d_y\", featuresCol=\"features\")\n",
    " # Chain indexers and tree in a Pipeline\n",
    "pipeline = Pipeline(stages=[ dt])\n",
    "\n",
    "# Train model.  This also runs the indexers.\n",
    "dt_model = pipeline.fit(train) \n",
    "\n",
    "# Make predictions.\n",
    "dt_result = dt_model.transform(test) \n",
    " \n",
    "evaluator = MulticlassClassificationEvaluator(\n",
    "    labelCol=\"d_y\", predictionCol=\"prediction\",metricName=\"accuracy\")\n",
    "dt_accuracy = evaluator.evaluate(dt_result)\n",
    "\n",
    "print('DecisionTree accuracy: ' + str(dt_accuracy))\n",
    "dt_result.groupBy(dt_result['d_y'].alias('OriginYes')).agg(count(\"age\").alias(\"Total_Count\"),sum(\"prediction\").alias(\"Prediction_Yes_Count\")).show()"
   ]
  },
  {
   "cell_type": "code",
   "execution_count": 32,
   "metadata": {},
   "outputs": [
    {
     "name": "stdout",
     "output_type": "stream",
     "text": [
      "+----------+---+--------------------+\n",
      "|prediction|d_y|            features|\n",
      "+----------+---+--------------------+\n",
      "|       1.0|  0|(28,[0,1,2,3,4,5,...|\n",
      "|       0.0|  0|(28,[0,1,2,3,5,6,...|\n",
      "|       0.0|  0|(28,[0,1,2,3,5,6,...|\n",
      "|       1.0|  0|(28,[0,1,2,3,4,5,...|\n",
      "|       1.0|  0|(28,[0,1,2,3,4,5,...|\n",
      "+----------+---+--------------------+\n",
      "only showing top 5 rows\n",
      "\n",
      "RandomForest accuracy: 0.8096218163107796\n",
      "+---------+-----------+--------------------+\n",
      "|OriginYes|Total_Count|Prediction_Yes_Count|\n",
      "+---------+-----------+--------------------+\n",
      "|        1|        435|               397.0|\n",
      "|        0|       3452|               702.0|\n",
      "+---------+-----------+--------------------+\n",
      "\n"
     ]
    }
   ],
   "source": [
    "#try DecisionTreeClassifier\n",
    "from pyspark.ml import Pipeline\n",
    "from pyspark.ml.classification import RandomForestClassifier\n",
    "from pyspark.ml.feature import IndexToString, StringIndexer, VectorIndexer\n",
    "from pyspark.ml.evaluation import MulticlassClassificationEvaluator\n",
    "# Train a RandomForest model.\n",
    "rf = RandomForestClassifier(labelCol=\"d_y\", featuresCol=\"features\", numTrees=10)  \n",
    "# Train model.  This also runs the indexers.\n",
    "rf_model = rf.fit(train) \n",
    "# Make predictions.\n",
    "rf_result = rf_model.transform(test)\n",
    "# Select example rows to display.\n",
    "rf_result.select(\"prediction\", \"d_y\", \"features\").show(5)\n",
    "evaluator = MulticlassClassificationEvaluator(\n",
    "    labelCol=\"d_y\", predictionCol=\"prediction\",metricName=\"accuracy\")\n",
    "rf_accuracy = evaluator.evaluate(rf_result)\n",
    "\n",
    "print('RandomForest accuracy: ' + str(rf_accuracy))\n",
    "rf_result.groupBy(rf_result['d_y'].alias('OriginYes')).agg(count(\"age\").alias(\"Total_Count\"),sum(\"prediction\").alias(\"Prediction_Yes_Count\")).show()\n"
   ]
  },
  {
   "cell_type": "code",
   "execution_count": 33,
   "metadata": {},
   "outputs": [
    {
     "name": "stdout",
     "output_type": "stream",
     "text": [
      "+----------+---+--------------------+\n",
      "|prediction|d_y|            features|\n",
      "+----------+---+--------------------+\n",
      "|       1.0|  0|(28,[0,1,2,3,4,5,...|\n",
      "|       0.0|  0|(28,[0,1,2,3,5,6,...|\n",
      "|       0.0|  0|(28,[0,1,2,3,5,6,...|\n",
      "|       1.0|  0|(28,[0,1,2,3,4,5,...|\n",
      "|       1.0|  0|(28,[0,1,2,3,4,5,...|\n",
      "+----------+---+--------------------+\n",
      "only showing top 5 rows\n",
      "\n",
      "GBTClassifier accuracy: 0.853357344996141\n",
      "+---------+-----------+--------------------+\n",
      "|OriginYes|Total_Count|Prediction_Yes_Count|\n",
      "+---------+-----------+--------------------+\n",
      "|        1|        435|               392.0|\n",
      "|        0|       3452|               527.0|\n",
      "+---------+-----------+--------------------+\n",
      "\n"
     ]
    }
   ],
   "source": [
    "# try GBTClassifier\n",
    "from pyspark.ml import Pipeline\n",
    "from pyspark.ml.classification import GBTClassifier\n",
    "from pyspark.ml.feature import StringIndexer, VectorIndexer\n",
    "from pyspark.ml.evaluation import MulticlassClassificationEvaluator\n",
    "\n",
    "# Train a GBT model.\n",
    "gbt = GBTClassifier(labelCol=\"d_y\", featuresCol=\"features\", maxIter=10)\n",
    "\n",
    "# Chain indexers and GBT in a Pipeline\n",
    "pipeline = Pipeline(stages=[ gbt])\n",
    "\n",
    "# Train model.  This also runs the indexers.\n",
    "gbt_model = pipeline.fit(train)\n",
    "\n",
    "# Make predictions.\n",
    "gbt_result = gbt_model.transform(test)\n",
    "\n",
    "# Select example rows to display.\n",
    "gbt_result.select(\"prediction\", \"d_y\", \"features\").show(5)\n",
    "\n",
    "# Select (prediction, true label) and compute test error\n",
    "evaluator = MulticlassClassificationEvaluator(\n",
    "    labelCol=\"d_y\", predictionCol=\"prediction\", metricName=\"accuracy\")\n",
    "gbt_accuracy = evaluator.evaluate(gbt_result) \n",
    "print('GBTClassifier accuracy: ' + str(gbt_accuracy))\n",
    "gbt_result.groupBy(gbt_result['d_y'].alias('OriginYes')).agg(count(\"age\").alias(\"Total_Count\"),sum(\"prediction\").alias(\"Prediction_Yes_Count\")).show()\n"
   ]
  },
  {
   "cell_type": "code",
   "execution_count": 30,
   "metadata": {},
   "outputs": [
    {
     "name": "stdout",
     "output_type": "stream",
     "text": [
      "DecisionTree accuracy: 0.8085927450475946\n",
      "+---------+-----------+--------------------+\n",
      "|OriginYes|Total_Count|Prediction_Yes_Count|\n",
      "+---------+-----------+--------------------+\n",
      "|        1|        435|               390.0|\n",
      "|        0|       3452|               699.0|\n",
      "+---------+-----------+--------------------+\n",
      "\n"
     ]
    }
   ],
   "source": [
    "# try different parameters in DecisionTree\n",
    "from pyspark.ml import Pipeline\n",
    "from pyspark.ml.classification import DecisionTreeClassifier\n",
    "from pyspark.ml.feature import StringIndexer, VectorIndexer\n",
    "from pyspark.ml.evaluation import MulticlassClassificationEvaluator \n",
    "from pyspark.sql.functions import max,sum,count\n",
    " \n",
    "\n",
    "# Train a DecisionTree model.\n",
    "dt = DecisionTreeClassifier(labelCol=\"d_y\", featuresCol=\"features\",maxDepth=3, maxBins=32)\n",
    " # Chain indexers and tree in a Pipeline\n",
    "pipeline = Pipeline(stages=[ dt])\n",
    "\n",
    "# Train model.  This also runs the indexers.\n",
    "dt_model = pipeline.fit(train) \n",
    "\n",
    "# Make predictions.\n",
    "dt_result = dt_model.transform(test) \n",
    " \n",
    "evaluator = MulticlassClassificationEvaluator(\n",
    "    labelCol=\"d_y\", predictionCol=\"prediction\",metricName=\"accuracy\")\n",
    "dt_accuracy = evaluator.evaluate(dt_result)\n",
    "\n",
    "print('DecisionTree accuracy: ' + str(dt_accuracy))\n",
    "dt_result.groupBy(dt_result['d_y'].alias('OriginYes')).agg(count(\"age\").alias(\"Total_Count\"),sum(\"prediction\").alias(\"Prediction_Yes_Count\")).show()"
   ]
  },
  {
   "cell_type": "code",
   "execution_count": 31,
   "metadata": {},
   "outputs": [
    {
     "name": "stdout",
     "output_type": "stream",
     "text": [
      "LogisticRegression accuracy: 0.8479547208644198\n",
      "+---------+-----------+--------------------+\n",
      "|OriginYes|Total_Count|Prediction_Yes_Count|\n",
      "+---------+-----------+--------------------+\n",
      "|        1|        435|               383.0|\n",
      "|        0|       3452|               539.0|\n",
      "+---------+-----------+--------------------+\n",
      "\n"
     ]
    }
   ],
   "source": [
    " \n",
    "# try different parameters in LogisticRegression\n",
    "from pyspark.sql.functions import max,sum,count\n",
    "from pyspark.ml.classification import LogisticRegression  \n",
    "import matplotlib.pyplot as plt\n",
    "import numpy as np\n",
    "# Instantiate the model.\n",
    "lr_model = LogisticRegression(featuresCol='features',labelCol='d_y',maxIter=500, threshold=0.45,aggregationDepth=2 ) \n",
    "# Fit the model.\n",
    "lr_model = lr_model.fit(train) \n",
    "# And evaluate the model using the test data.\n",
    "lr_result = lr_model.transform(test)\n",
    "# Let's get a summary of the data.\n",
    "training_summary = lr_model.summary \n",
    "from pyspark.ml.evaluation import MulticlassClassificationEvaluator\n",
    "evaluator = MulticlassClassificationEvaluator(\n",
    "    labelCol=\"d_y\", predictionCol=\"prediction\",metricName=\"accuracy\")\n",
    "lr_accuracy = evaluator.evaluate(lr_result)\n",
    "\n",
    "print('LogisticRegression accuracy: ' + str(lr_accuracy))\n",
    "\n",
    "lr_result.groupBy(lr_result['d_y'].alias('OriginYes')).agg(count(\"age\").alias(\"Total_Count\"),sum(\"prediction\").alias(\"Prediction_Yes_Count\")).show()"
   ]
  },
  {
   "cell_type": "code",
   "execution_count": 32,
   "metadata": {},
   "outputs": [
    {
     "name": "stdout",
     "output_type": "stream",
     "text": [
      "final accuracy: 0.7849241059943401\n",
      "+---------+-----------+--------------------+\n",
      "|OriginYes|Total_Count|Prediction_Yes_Count|\n",
      "+---------+-----------+--------------------+\n",
      "|        1|        435|               415.0|\n",
      "|        0|       3452|               816.0|\n",
      "+---------+-----------+--------------------+\n",
      "\n"
     ]
    }
   ],
   "source": [
    "# merge the two results to final result\n",
    "lr_result_2merge=lr_result.selectExpr(\"id\", \"prediction as prediction_fr\") \n",
    "final_result = lr_result_2merge.join(dt_result, on=['id'], how='inner')\n",
    "from pyspark.sql.functions import col, when \n",
    "final_result=final_result.withColumn(\n",
    "    \"final_prediction\",\n",
    "    when(\n",
    "        col(\"prediction_fr\") == 1,\n",
    "        col(\"prediction_fr\")\n",
    "    ).otherwise(col(\"prediction\"))\n",
    ")\n",
    "evaluator = MulticlassClassificationEvaluator(\n",
    "    labelCol=\"d_y\", predictionCol=\"final_prediction\",metricName=\"accuracy\")\n",
    "fl_accuracy = evaluator.evaluate(final_result)\n",
    "\n",
    "print('final accuracy: ' + str(fl_accuracy))\n",
    "\n",
    "final_result.groupBy(final_result['d_y'].alias('OriginYes')).agg(count(\"age\").alias(\"Total_Count\"),sum(\"final_prediction\").alias(\"Prediction_Yes_Count\")).show()"
   ]
  },
  {
   "cell_type": "code",
   "execution_count": 33,
   "metadata": {
    "scrolled": true
   },
   "outputs": [
    {
     "name": "stdout",
     "output_type": "stream",
     "text": [
      "Learned classification tree model:\n",
      "DecisionTreeClassificationModel (uid=DecisionTreeClassifier_42658455b3bd858e65f9) of depth 3 with 15 nodes\n",
      "  If (feature 1 <= 251.0)\n",
      "   If (feature 9 <= 5076.2)\n",
      "    If (feature 1 <= 130.0)\n",
      "     Predict: 0.0\n",
      "    Else (feature 1 > 130.0)\n",
      "     Predict: 1.0\n",
      "   Else (feature 9 > 5076.2)\n",
      "    If (feature 23 in {0.0,1.0,2.0,3.0,4.0,6.0,9.0})\n",
      "     Predict: 0.0\n",
      "    Else (feature 23 not in {0.0,1.0,2.0,3.0,4.0,6.0,9.0})\n",
      "     Predict: 1.0\n",
      "  Else (feature 1 > 251.0)\n",
      "   If (feature 8 <= 1.268)\n",
      "    If (feature 9 <= 5076.2)\n",
      "     Predict: 1.0\n",
      "    Else (feature 9 > 5076.2)\n",
      "     Predict: 1.0\n",
      "   Else (feature 8 > 1.268)\n",
      "    If (feature 1 <= 435.0)\n",
      "     Predict: 0.0\n",
      "    Else (feature 1 > 435.0)\n",
      "     Predict: 1.0\n",
      "\n"
     ]
    }
   ],
   "source": [
    "treeModel = dt_model.stages[0] \n",
    "print(\"Learned classification tree model:\\n\" + treeModel.toDebugString)"
   ]
  },
  {
   "cell_type": "code",
   "execution_count": 34,
   "metadata": {},
   "outputs": [],
   "source": [
    "fields=[x[\"name\"] for x in sorted(df.schema[\"features\"].metadata[\"ml_attr\"][\"attrs\"][\"binary\"]+\n",
    "   df.schema[\"features\"].metadata[\"ml_attr\"][\"attrs\"][\"numeric\"]+df.schema[\"features\"].metadata[\"ml_attr\"][\"attrs\"][\"nominal\"], \n",
    "   key=lambda x: x[\"idx\"])]"
   ]
  },
  {
   "cell_type": "code",
   "execution_count": 35,
   "metadata": {},
   "outputs": [
    {
     "data": {
      "text/plain": [
       "('duration', 'nr_employed', 'd_month', 'emp_var_rate', 'euribor3m')"
      ]
     },
     "execution_count": 35,
     "metadata": {},
     "output_type": "execute_result"
    }
   ],
   "source": [
    "fields[1],fields[9],fields[23],fields[5],fields[8]"
   ]
  },
  {
   "cell_type": "code",
   "execution_count": 36,
   "metadata": {},
   "outputs": [
    {
     "name": "stdout",
     "output_type": "stream",
     "text": [
      "cons_price_idx                 :    0.52\n",
      "euribor3m                      :    0.38\n",
      "jobVec_retired                 :    0.26\n",
      "poutcomeVec_nonexistent        :    0.22\n",
      "d_month                        :    0.20\n",
      "education_new                  :    0.19\n",
      "maritalVec_single              :    0.14\n",
      "maritalVec_married             :    0.07\n",
      "poutcomeVec_failure            :    0.06\n",
      "cons_conf_idx                  :    0.02\n",
      "duration                       :    0.01\n",
      "age                            :    0.00\n",
      "pdays                          :   -0.00\n",
      "nr_employed                    :   -0.01\n",
      "jobVec_unemployed              :   -0.04\n",
      "campaign                       :   -0.05\n",
      "jobVec_admin                   :   -0.27\n",
      "d_default                      :   -0.29\n",
      "previous                       :   -0.35\n",
      "jobVec_technician              :   -0.41\n",
      "jobVec_management              :   -0.49\n",
      "jobVec_self-employed           :   -0.50\n",
      "d_contact                      :   -0.54\n",
      "jobVec_housemaid               :   -0.57\n",
      "jobVec_services                :   -0.65\n",
      "jobVec_blue-collar             :   -0.69\n",
      "jobVec_entrepreneur            :   -0.71\n",
      "emp_var_rate                   :   -0.82\n"
     ]
    }
   ],
   "source": [
    "#print lr_model coefficients\n",
    "keys = fields\n",
    "values = lr_model.coefficients\n",
    "dictionary = dict(zip(keys, values))\n",
    "sorted_by_value = sorted(dictionary.items(), key=lambda kv: kv[1],reverse=True)\n",
    "for key,value in sorted_by_value :\n",
    "    print ('{:30s} : {:7.2f}'.format(key,value))"
   ]
  },
  {
   "cell_type": "code",
   "execution_count": 37,
   "metadata": {},
   "outputs": [
    {
     "data": {
      "text/plain": [
       "DenseVector([-0.0246])"
      ]
     },
     "execution_count": 37,
     "metadata": {},
     "output_type": "execute_result"
    }
   ],
   "source": [
    "#print lr_model interceptVector\n",
    "lr_model.interceptVector"
   ]
  },
  {
   "cell_type": "code",
   "execution_count": 38,
   "metadata": {},
   "outputs": [
    {
     "data": {
      "text/html": [
       "<div>\n",
       "<style scoped>\n",
       "    .dataframe tbody tr th:only-of-type {\n",
       "        vertical-align: middle;\n",
       "    }\n",
       "\n",
       "    .dataframe tbody tr th {\n",
       "        vertical-align: top;\n",
       "    }\n",
       "\n",
       "    .dataframe thead th {\n",
       "        text-align: right;\n",
       "    }\n",
       "</style>\n",
       "<table border=\"1\" class=\"dataframe\">\n",
       "  <thead>\n",
       "    <tr style=\"text-align: right;\">\n",
       "      <th></th>\n",
       "      <th>0</th>\n",
       "      <th>1</th>\n",
       "      <th>2</th>\n",
       "      <th>3</th>\n",
       "      <th>4</th>\n",
       "    </tr>\n",
       "  </thead>\n",
       "  <tbody>\n",
       "    <tr>\n",
       "      <th>id</th>\n",
       "      <td>34888</td>\n",
       "      <td>37617</td>\n",
       "      <td>34431</td>\n",
       "      <td>33951</td>\n",
       "      <td>34429</td>\n",
       "    </tr>\n",
       "    <tr>\n",
       "      <th>prediction_fr</th>\n",
       "      <td>1</td>\n",
       "      <td>0</td>\n",
       "      <td>0</td>\n",
       "      <td>0</td>\n",
       "      <td>1</td>\n",
       "    </tr>\n",
       "    <tr>\n",
       "      <th>age</th>\n",
       "      <td>17</td>\n",
       "      <td>20</td>\n",
       "      <td>20</td>\n",
       "      <td>20</td>\n",
       "      <td>20</td>\n",
       "    </tr>\n",
       "    <tr>\n",
       "      <th>duration</th>\n",
       "      <td>92</td>\n",
       "      <td>36</td>\n",
       "      <td>74</td>\n",
       "      <td>74</td>\n",
       "      <td>625</td>\n",
       "    </tr>\n",
       "    <tr>\n",
       "      <th>campaign</th>\n",
       "      <td>3</td>\n",
       "      <td>1</td>\n",
       "      <td>1</td>\n",
       "      <td>2</td>\n",
       "      <td>1</td>\n",
       "    </tr>\n",
       "    <tr>\n",
       "      <th>pdays</th>\n",
       "      <td>4</td>\n",
       "      <td>999</td>\n",
       "      <td>999</td>\n",
       "      <td>999</td>\n",
       "      <td>999</td>\n",
       "    </tr>\n",
       "    <tr>\n",
       "      <th>previous</th>\n",
       "      <td>2</td>\n",
       "      <td>0</td>\n",
       "      <td>0</td>\n",
       "      <td>1</td>\n",
       "      <td>1</td>\n",
       "    </tr>\n",
       "    <tr>\n",
       "      <th>emp_var_rate</th>\n",
       "      <td>-2.9</td>\n",
       "      <td>-1.1</td>\n",
       "      <td>-2.9</td>\n",
       "      <td>-2.9</td>\n",
       "      <td>-2.9</td>\n",
       "    </tr>\n",
       "    <tr>\n",
       "      <th>cons_price_idx</th>\n",
       "      <td>92.201</td>\n",
       "      <td>94.199</td>\n",
       "      <td>92.469</td>\n",
       "      <td>92.963</td>\n",
       "      <td>92.469</td>\n",
       "    </tr>\n",
       "    <tr>\n",
       "      <th>cons_conf_idx</th>\n",
       "      <td>-31.4</td>\n",
       "      <td>-37.5</td>\n",
       "      <td>-33.6</td>\n",
       "      <td>-40.8</td>\n",
       "      <td>-33.6</td>\n",
       "    </tr>\n",
       "    <tr>\n",
       "      <th>euribor3m</th>\n",
       "      <td>0.869</td>\n",
       "      <td>0.882</td>\n",
       "      <td>1.029</td>\n",
       "      <td>1.26</td>\n",
       "      <td>1.029</td>\n",
       "    </tr>\n",
       "    <tr>\n",
       "      <th>nr_employed</th>\n",
       "      <td>5076.2</td>\n",
       "      <td>4963.6</td>\n",
       "      <td>5076.2</td>\n",
       "      <td>5076.2</td>\n",
       "      <td>5076.2</td>\n",
       "    </tr>\n",
       "    <tr>\n",
       "      <th>y</th>\n",
       "      <td>no</td>\n",
       "      <td>no</td>\n",
       "      <td>no</td>\n",
       "      <td>no</td>\n",
       "      <td>no</td>\n",
       "    </tr>\n",
       "    <tr>\n",
       "      <th>education_new</th>\n",
       "      <td>2</td>\n",
       "      <td>1</td>\n",
       "      <td>2</td>\n",
       "      <td>2</td>\n",
       "      <td>2</td>\n",
       "    </tr>\n",
       "    <tr>\n",
       "      <th>d_default</th>\n",
       "      <td>0</td>\n",
       "      <td>0</td>\n",
       "      <td>0</td>\n",
       "      <td>0</td>\n",
       "      <td>0</td>\n",
       "    </tr>\n",
       "    <tr>\n",
       "      <th>d_job_new</th>\n",
       "      <td>10</td>\n",
       "      <td>1</td>\n",
       "      <td>10</td>\n",
       "      <td>10</td>\n",
       "      <td>10</td>\n",
       "    </tr>\n",
       "    <tr>\n",
       "      <th>d_contact</th>\n",
       "      <td>0</td>\n",
       "      <td>1</td>\n",
       "      <td>0</td>\n",
       "      <td>0</td>\n",
       "      <td>0</td>\n",
       "    </tr>\n",
       "    <tr>\n",
       "      <th>d_month</th>\n",
       "      <td>2</td>\n",
       "      <td>7</td>\n",
       "      <td>1</td>\n",
       "      <td>3</td>\n",
       "      <td>1</td>\n",
       "    </tr>\n",
       "    <tr>\n",
       "      <th>d_poutcome</th>\n",
       "      <td>2</td>\n",
       "      <td>0</td>\n",
       "      <td>0</td>\n",
       "      <td>1</td>\n",
       "      <td>1</td>\n",
       "    </tr>\n",
       "    <tr>\n",
       "      <th>d_marital</th>\n",
       "      <td>1</td>\n",
       "      <td>1</td>\n",
       "      <td>1</td>\n",
       "      <td>1</td>\n",
       "      <td>1</td>\n",
       "    </tr>\n",
       "    <tr>\n",
       "      <th>jobVec</th>\n",
       "      <td>(0.0, 0.0, 0.0, 0.0, 0.0, 0.0, 0.0, 0.0, 0.0, ...</td>\n",
       "      <td>(0.0, 1.0, 0.0, 0.0, 0.0, 0.0, 0.0, 0.0, 0.0, ...</td>\n",
       "      <td>(0.0, 0.0, 0.0, 0.0, 0.0, 0.0, 0.0, 0.0, 0.0, ...</td>\n",
       "      <td>(0.0, 0.0, 0.0, 0.0, 0.0, 0.0, 0.0, 0.0, 0.0, ...</td>\n",
       "      <td>(0.0, 0.0, 0.0, 0.0, 0.0, 0.0, 0.0, 0.0, 0.0, ...</td>\n",
       "    </tr>\n",
       "    <tr>\n",
       "      <th>maritalVec</th>\n",
       "      <td>(0.0, 1.0)</td>\n",
       "      <td>(0.0, 1.0)</td>\n",
       "      <td>(0.0, 1.0)</td>\n",
       "      <td>(0.0, 1.0)</td>\n",
       "      <td>(0.0, 1.0)</td>\n",
       "    </tr>\n",
       "    <tr>\n",
       "      <th>poutcomeVec</th>\n",
       "      <td>(0.0, 0.0)</td>\n",
       "      <td>(1.0, 0.0)</td>\n",
       "      <td>(1.0, 0.0)</td>\n",
       "      <td>(0.0, 1.0)</td>\n",
       "      <td>(0.0, 1.0)</td>\n",
       "    </tr>\n",
       "    <tr>\n",
       "      <th>d_y</th>\n",
       "      <td>0</td>\n",
       "      <td>0</td>\n",
       "      <td>0</td>\n",
       "      <td>0</td>\n",
       "      <td>0</td>\n",
       "    </tr>\n",
       "    <tr>\n",
       "      <th>features</th>\n",
       "      <td>(17.0, 92.0, 3.0, 4.0, 2.0, -2.9, 92.201, -31....</td>\n",
       "      <td>(20.0, 36.0, 1.0, 999.0, 0.0, -1.1, 94.199, -3...</td>\n",
       "      <td>(20.0, 74.0, 1.0, 999.0, 0.0, -2.9, 92.469, -3...</td>\n",
       "      <td>(20.0, 74.0, 2.0, 999.0, 1.0, -2.9, 92.963, -4...</td>\n",
       "      <td>(20.0, 625.0, 1.0, 999.0, 1.0, -2.9, 92.469, -...</td>\n",
       "    </tr>\n",
       "    <tr>\n",
       "      <th>rawPrediction</th>\n",
       "      <td>[112.0, 107.0]</td>\n",
       "      <td>[112.0, 107.0]</td>\n",
       "      <td>[112.0, 107.0]</td>\n",
       "      <td>[112.0, 107.0]</td>\n",
       "      <td>[64.0, 1102.0]</td>\n",
       "    </tr>\n",
       "    <tr>\n",
       "      <th>probability</th>\n",
       "      <td>[0.5114155251141552, 0.4885844748858447]</td>\n",
       "      <td>[0.5114155251141552, 0.4885844748858447]</td>\n",
       "      <td>[0.5114155251141552, 0.4885844748858447]</td>\n",
       "      <td>[0.5114155251141552, 0.4885844748858447]</td>\n",
       "      <td>[0.0548885077186964, 0.9451114922813036]</td>\n",
       "    </tr>\n",
       "    <tr>\n",
       "      <th>prediction</th>\n",
       "      <td>0</td>\n",
       "      <td>0</td>\n",
       "      <td>0</td>\n",
       "      <td>0</td>\n",
       "      <td>1</td>\n",
       "    </tr>\n",
       "    <tr>\n",
       "      <th>final_prediction</th>\n",
       "      <td>1</td>\n",
       "      <td>0</td>\n",
       "      <td>0</td>\n",
       "      <td>0</td>\n",
       "      <td>1</td>\n",
       "    </tr>\n",
       "  </tbody>\n",
       "</table>\n",
       "</div>"
      ],
      "text/plain": [
       "                                                                  0  \\\n",
       "id                                                            34888   \n",
       "prediction_fr                                                     1   \n",
       "age                                                              17   \n",
       "duration                                                         92   \n",
       "campaign                                                          3   \n",
       "pdays                                                             4   \n",
       "previous                                                          2   \n",
       "emp_var_rate                                                   -2.9   \n",
       "cons_price_idx                                               92.201   \n",
       "cons_conf_idx                                                 -31.4   \n",
       "euribor3m                                                     0.869   \n",
       "nr_employed                                                  5076.2   \n",
       "y                                                                no   \n",
       "education_new                                                     2   \n",
       "d_default                                                         0   \n",
       "d_job_new                                                        10   \n",
       "d_contact                                                         0   \n",
       "d_month                                                           2   \n",
       "d_poutcome                                                        2   \n",
       "d_marital                                                         1   \n",
       "jobVec            (0.0, 0.0, 0.0, 0.0, 0.0, 0.0, 0.0, 0.0, 0.0, ...   \n",
       "maritalVec                                               (0.0, 1.0)   \n",
       "poutcomeVec                                              (0.0, 0.0)   \n",
       "d_y                                                               0   \n",
       "features          (17.0, 92.0, 3.0, 4.0, 2.0, -2.9, 92.201, -31....   \n",
       "rawPrediction                                        [112.0, 107.0]   \n",
       "probability                [0.5114155251141552, 0.4885844748858447]   \n",
       "prediction                                                        0   \n",
       "final_prediction                                                  1   \n",
       "\n",
       "                                                                  1  \\\n",
       "id                                                            37617   \n",
       "prediction_fr                                                     0   \n",
       "age                                                              20   \n",
       "duration                                                         36   \n",
       "campaign                                                          1   \n",
       "pdays                                                           999   \n",
       "previous                                                          0   \n",
       "emp_var_rate                                                   -1.1   \n",
       "cons_price_idx                                               94.199   \n",
       "cons_conf_idx                                                 -37.5   \n",
       "euribor3m                                                     0.882   \n",
       "nr_employed                                                  4963.6   \n",
       "y                                                                no   \n",
       "education_new                                                     1   \n",
       "d_default                                                         0   \n",
       "d_job_new                                                         1   \n",
       "d_contact                                                         1   \n",
       "d_month                                                           7   \n",
       "d_poutcome                                                        0   \n",
       "d_marital                                                         1   \n",
       "jobVec            (0.0, 1.0, 0.0, 0.0, 0.0, 0.0, 0.0, 0.0, 0.0, ...   \n",
       "maritalVec                                               (0.0, 1.0)   \n",
       "poutcomeVec                                              (1.0, 0.0)   \n",
       "d_y                                                               0   \n",
       "features          (20.0, 36.0, 1.0, 999.0, 0.0, -1.1, 94.199, -3...   \n",
       "rawPrediction                                        [112.0, 107.0]   \n",
       "probability                [0.5114155251141552, 0.4885844748858447]   \n",
       "prediction                                                        0   \n",
       "final_prediction                                                  0   \n",
       "\n",
       "                                                                  2  \\\n",
       "id                                                            34431   \n",
       "prediction_fr                                                     0   \n",
       "age                                                              20   \n",
       "duration                                                         74   \n",
       "campaign                                                          1   \n",
       "pdays                                                           999   \n",
       "previous                                                          0   \n",
       "emp_var_rate                                                   -2.9   \n",
       "cons_price_idx                                               92.469   \n",
       "cons_conf_idx                                                 -33.6   \n",
       "euribor3m                                                     1.029   \n",
       "nr_employed                                                  5076.2   \n",
       "y                                                                no   \n",
       "education_new                                                     2   \n",
       "d_default                                                         0   \n",
       "d_job_new                                                        10   \n",
       "d_contact                                                         0   \n",
       "d_month                                                           1   \n",
       "d_poutcome                                                        0   \n",
       "d_marital                                                         1   \n",
       "jobVec            (0.0, 0.0, 0.0, 0.0, 0.0, 0.0, 0.0, 0.0, 0.0, ...   \n",
       "maritalVec                                               (0.0, 1.0)   \n",
       "poutcomeVec                                              (1.0, 0.0)   \n",
       "d_y                                                               0   \n",
       "features          (20.0, 74.0, 1.0, 999.0, 0.0, -2.9, 92.469, -3...   \n",
       "rawPrediction                                        [112.0, 107.0]   \n",
       "probability                [0.5114155251141552, 0.4885844748858447]   \n",
       "prediction                                                        0   \n",
       "final_prediction                                                  0   \n",
       "\n",
       "                                                                  3  \\\n",
       "id                                                            33951   \n",
       "prediction_fr                                                     0   \n",
       "age                                                              20   \n",
       "duration                                                         74   \n",
       "campaign                                                          2   \n",
       "pdays                                                           999   \n",
       "previous                                                          1   \n",
       "emp_var_rate                                                   -2.9   \n",
       "cons_price_idx                                               92.963   \n",
       "cons_conf_idx                                                 -40.8   \n",
       "euribor3m                                                      1.26   \n",
       "nr_employed                                                  5076.2   \n",
       "y                                                                no   \n",
       "education_new                                                     2   \n",
       "d_default                                                         0   \n",
       "d_job_new                                                        10   \n",
       "d_contact                                                         0   \n",
       "d_month                                                           3   \n",
       "d_poutcome                                                        1   \n",
       "d_marital                                                         1   \n",
       "jobVec            (0.0, 0.0, 0.0, 0.0, 0.0, 0.0, 0.0, 0.0, 0.0, ...   \n",
       "maritalVec                                               (0.0, 1.0)   \n",
       "poutcomeVec                                              (0.0, 1.0)   \n",
       "d_y                                                               0   \n",
       "features          (20.0, 74.0, 2.0, 999.0, 1.0, -2.9, 92.963, -4...   \n",
       "rawPrediction                                        [112.0, 107.0]   \n",
       "probability                [0.5114155251141552, 0.4885844748858447]   \n",
       "prediction                                                        0   \n",
       "final_prediction                                                  0   \n",
       "\n",
       "                                                                  4  \n",
       "id                                                            34429  \n",
       "prediction_fr                                                     1  \n",
       "age                                                              20  \n",
       "duration                                                        625  \n",
       "campaign                                                          1  \n",
       "pdays                                                           999  \n",
       "previous                                                          1  \n",
       "emp_var_rate                                                   -2.9  \n",
       "cons_price_idx                                               92.469  \n",
       "cons_conf_idx                                                 -33.6  \n",
       "euribor3m                                                     1.029  \n",
       "nr_employed                                                  5076.2  \n",
       "y                                                                no  \n",
       "education_new                                                     2  \n",
       "d_default                                                         0  \n",
       "d_job_new                                                        10  \n",
       "d_contact                                                         0  \n",
       "d_month                                                           1  \n",
       "d_poutcome                                                        1  \n",
       "d_marital                                                         1  \n",
       "jobVec            (0.0, 0.0, 0.0, 0.0, 0.0, 0.0, 0.0, 0.0, 0.0, ...  \n",
       "maritalVec                                               (0.0, 1.0)  \n",
       "poutcomeVec                                              (0.0, 1.0)  \n",
       "d_y                                                               0  \n",
       "features          (20.0, 625.0, 1.0, 999.0, 1.0, -2.9, 92.469, -...  \n",
       "rawPrediction                                        [64.0, 1102.0]  \n",
       "probability                [0.0548885077186964, 0.9451114922813036]  \n",
       "prediction                                                        1  \n",
       "final_prediction                                                  1  "
      ]
     },
     "execution_count": 38,
     "metadata": {},
     "output_type": "execute_result"
    }
   ],
   "source": [
    "pd.DataFrame(final_result.take(5),columns=final_result.columns).transpose()"
   ]
  },
  {
   "cell_type": "code",
   "execution_count": 39,
   "metadata": {},
   "outputs": [],
   "source": [
    "def showLines_bars(final_group,field):\n",
    "    x = final_group[\"x\"].values.tolist()  \n",
    "    y1 = final_group[\"Origin_Yes_Count\"].values.tolist()\n",
    "    y2 =final_group[\"Prediction_Yes_Count\"].values.tolist()  \n",
    "    \n",
    "\n",
    "    fig, ax = plt.subplots()\n",
    "    ax.fill(x, y1, 'b', x, y2, 'r', alpha=0.3)\n",
    "    plt.ylabel('count(*)')\n",
    "    plt.title('count by group by '+field)  \n",
    "    #plt.legend((ax[0],ax[1]), ('original', 'prediction'))\n",
    "    plt.show()"
   ]
  },
  {
   "cell_type": "code",
   "execution_count": 40,
   "metadata": {},
   "outputs": [],
   "source": [
    "def showLines_bars2(final_group,field):    \n",
    "    xs = final_group[\"x\"].values.tolist()\n",
    "#ages=ages[0:10]\n",
    "    N = len(xs)\n",
    "    ind = np.arange(N)    # the x locations for the groups      \n",
    "\n",
    "    Origin_Yes_Count = final_group[\"Origin_Yes_Count\"].values.tolist()\n",
    "    final_group[\"Diff_count\"]=final_group.Prediction_Yes_Count-final_group.Origin_Yes_Count \n",
    "    Prediction_Yes_Count =final_group[\"Diff_count\"].values.tolist()  \n",
    "    width = 0.35       # the width of the bars: can also be len(x) sequence   \n",
    "    \n",
    "\n",
    "    plt.ylabel('count(*)')\n",
    "    plt.title('count by group by '+field)\n",
    "    y=[Origin_Yes_Count,Origin_Yes_Count]\n",
    "    lbl=[\"Origin\",\"Prediction\"]\n",
    "    pal = [\"r\", \"b\" ]\n",
    "    if(N>20):\n",
    "         # ind = np.arange(int(N/10))    # the x locations for the groups\n",
    "        # print(ind)\n",
    "        gap=10;\n",
    "        if N>3000:\n",
    "            gap=1000\n",
    "        elif N>300:\n",
    "            gap=100\n",
    "        else:\n",
    "            gap=10 \n",
    "        xti_ages=[ xs[i] if (i%gap==0) else \"\" for i in ind]\n",
    "     \n",
    "        plt.stackplot(ind, y, labels=lbl, colors=pal, alpha=0.4 )\n",
    "     \n",
    "            #xticks( arange(5), ('Tom', 'Dick', 'Harry', 'Sally', 'Sue') )\n",
    "    elif N>5:\n",
    "        #plt.xticks(ind, xs, rotation='vertical')\n",
    "        plt.stackplot(ind, y, labels=lbl, colors=pal, alpha=0.4 )\n",
    "     \n",
    "    else:\n",
    "        plt.stackplot(ind, y, labels=lbl, colors=pal, alpha=0.4)\n",
    "    plt.legend(loc='upper right')\n",
    "    #plt.yticks(np.arange(0, 100, 10)) \n",
    "    plt.show()"
   ]
  },
  {
   "cell_type": "code",
   "execution_count": 41,
   "metadata": {},
   "outputs": [
    {
     "data": {
      "image/png": "[encoded data removed]",
      "text/plain": [
       "<Figure size 432x288 with 1 Axes>"
      ]
     },
     "metadata": {},
     "output_type": "display_data"
    }
   ],
   "source": [
    "final_group_age=final_result.groupBy(final_result['duration'].alias(\"x\")).agg(sum(\"d_y\").alias(\"Origin_Yes_Count\"),sum(\"final_prediction\").alias(\"Prediction_Yes_Count\")).sort(\"x\").toPandas()  \n",
    "showLines_bars2(final_group_age,'duration')"
   ]
  },
  {
   "cell_type": "code",
   "execution_count": 42,
   "metadata": {},
   "outputs": [
    {
     "data": {
      "image/png": "[encoded data removed]",
      "text/plain": [
       "<Figure size 432x288 with 1 Axes>"
      ]
     },
     "metadata": {},
     "output_type": "display_data"
    }
   ],
   "source": [
    "final_group_emp=final_result.groupBy(final_result['euribor3m'].alias(\"x\")).agg(sum(\"d_y\").alias(\"Origin_Yes_Count\"),sum(\"final_prediction\").alias(\"Prediction_Yes_Count\")).sort(\"x\").toPandas()  \n",
    "showLines_bars2(final_group_emp,'euribor3m')"
   ]
  },
  {
   "cell_type": "code",
   "execution_count": 43,
   "metadata": {},
   "outputs": [
    {
     "data": {
      "image/png": "[encoded data removed]",
      "text/plain": [
       "<Figure size 432x288 with 1 Axes>"
      ]
     },
     "metadata": {},
     "output_type": "display_data"
    }
   ],
   "source": [
    "final_group_emp=final_result.groupBy(final_result['emp_var_rate'].alias(\"x\")).agg(sum(\"d_y\").alias(\"Origin_Yes_Count\"),sum(\"final_prediction\").alias(\"Prediction_Yes_Count\")).sort(\"x\").toPandas()  \n",
    "showLines_bars2(final_group_emp,'emp_var_rate')"
   ]
  },
  {
   "cell_type": "code",
   "execution_count": 44,
   "metadata": {},
   "outputs": [
    {
     "data": {
      "image/png": "[encoded data removed]",
      "text/plain": [
       "<Figure size 432x288 with 1 Axes>"
      ]
     },
     "metadata": {},
     "output_type": "display_data"
    }
   ],
   "source": [
    "final_group_emp=final_result.groupBy(final_result['cons_price_idx'].alias(\"x\")).agg(sum(\"d_y\").alias(\"Origin_Yes_Count\"),sum(\"final_prediction\").alias(\"Prediction_Yes_Count\")).sort(\"x\").toPandas()\n",
    "showLines_bars2(final_group_emp,'cons_price_idx')"
   ]
  },
  {
   "cell_type": "code",
   "execution_count": 45,
   "metadata": {},
   "outputs": [
    {
     "data": {
      "image/png": "[encoded data removed]",
      "text/plain": [
       "<Figure size 432x288 with 1 Axes>"
      ]
     },
     "metadata": {},
     "output_type": "display_data"
    }
   ],
   "source": [
    "final_group_emp=final_result.groupBy(final_result['nr_employed'].alias(\"x\")).agg(sum(\"d_y\").alias(\"Origin_Yes_Count\"),sum(\"final_prediction\").alias(\"Prediction_Yes_Count\")).sort(\"x\").toPandas()  \n",
    "showLines_bars2(final_group_emp,'nr_employed')"
   ]
  },
  {
   "cell_type": "code",
   "execution_count": 46,
   "metadata": {},
   "outputs": [],
   "source": [
    "final_compare=final_result.groupBy(\"d_y\",\"final_prediction\").agg(count(\"age\").alias(\"record_count\")).sort(\"d_y\",\"final_prediction\")\n",
    "final_compare =final_compare.withColumn(\"Y-N\",when(((col('d_y')==1 )& (col('final_prediction')==1.0)) ,'Yes-Yes').otherwise(when(((col('d_y')==1)& (col('final_prediction')==0.0 ) ),'Yes-No').otherwise(when(col('final_prediction')==1.0,'No-Yes').otherwise('No-No'))))\n",
    "final_compare=final_compare.toPandas()"
   ]
  },
  {
   "cell_type": "code",
   "execution_count": 47,
   "metadata": {},
   "outputs": [],
   "source": [
    "ttl_recordCount=final_result.count()"
   ]
  },
  {
   "cell_type": "code",
   "execution_count": 48,
   "metadata": {},
   "outputs": [],
   "source": [
    "final_compare[\"ratio\"]=final_compare[\"record_count\"]*100.0/ttl_recordCount"
   ]
  },
  {
   "cell_type": "code",
   "execution_count": 49,
   "metadata": {},
   "outputs": [
    {
     "data": {
      "text/html": [
       "<div>\n",
       "<style scoped>\n",
       "    .dataframe tbody tr th:only-of-type {\n",
       "        vertical-align: middle;\n",
       "    }\n",
       "\n",
       "    .dataframe tbody tr th {\n",
       "        vertical-align: top;\n",
       "    }\n",
       "\n",
       "    .dataframe thead th {\n",
       "        text-align: right;\n",
       "    }\n",
       "</style>\n",
       "<table border=\"1\" class=\"dataframe\">\n",
       "  <thead>\n",
       "    <tr style=\"text-align: right;\">\n",
       "      <th></th>\n",
       "      <th>d_y</th>\n",
       "      <th>final_prediction</th>\n",
       "      <th>record_count</th>\n",
       "      <th>Y-N</th>\n",
       "      <th>ratio</th>\n",
       "    </tr>\n",
       "  </thead>\n",
       "  <tbody>\n",
       "    <tr>\n",
       "      <th>0</th>\n",
       "      <td>0</td>\n",
       "      <td>0.0</td>\n",
       "      <td>2636</td>\n",
       "      <td>No-No</td>\n",
       "      <td>67.815796</td>\n",
       "    </tr>\n",
       "    <tr>\n",
       "      <th>1</th>\n",
       "      <td>0</td>\n",
       "      <td>1.0</td>\n",
       "      <td>816</td>\n",
       "      <td>No-Yes</td>\n",
       "      <td>20.993054</td>\n",
       "    </tr>\n",
       "    <tr>\n",
       "      <th>2</th>\n",
       "      <td>1</td>\n",
       "      <td>0.0</td>\n",
       "      <td>20</td>\n",
       "      <td>Yes-No</td>\n",
       "      <td>0.514536</td>\n",
       "    </tr>\n",
       "    <tr>\n",
       "      <th>3</th>\n",
       "      <td>1</td>\n",
       "      <td>1.0</td>\n",
       "      <td>415</td>\n",
       "      <td>Yes-Yes</td>\n",
       "      <td>10.676614</td>\n",
       "    </tr>\n",
       "  </tbody>\n",
       "</table>\n",
       "</div>"
      ],
      "text/plain": [
       "   d_y  final_prediction  record_count      Y-N      ratio\n",
       "0    0               0.0          2636    No-No  67.815796\n",
       "1    0               1.0           816   No-Yes  20.993054\n",
       "2    1               0.0            20   Yes-No   0.514536\n",
       "3    1               1.0           415  Yes-Yes  10.676614"
      ]
     },
     "execution_count": 49,
     "metadata": {},
     "output_type": "execute_result"
    }
   ],
   "source": [
    "final_compare"
   ]
  },
  {
   "cell_type": "code",
   "execution_count": 50,
   "metadata": {},
   "outputs": [
    {
     "data": {
      "image/png": "[encoded data removed]",
      "text/plain": [
       "<Figure size 432x288 with 1 Axes>"
      ]
     },
     "metadata": {},
     "output_type": "display_data"
    }
   ],
   "source": [
    " \n",
    "\n",
    "# Pie chart, where the slices will be ordered and plotted counter-clockwise:\n",
    "labels =final_compare[\"Y-N\"].values.tolist()\n",
    "sizes = final_compare[\"ratio\"].values.tolist()\n",
    "explode = (0, 0.1, 0, 0)  # only \"explode\" the 2nd slice (i.e. 'Hogs')\n",
    "\n",
    "fig1, ax1 = plt.subplots()\n",
    "ax1.pie(sizes, explode=explode, labels=labels, autopct='%1.1f%%',\n",
    "        shadow=True, startangle=90)\n",
    "ax1.axis('equal')  # Equal aspect ratio ensures that pie is drawn as a circle.\n",
    "\n",
    "plt.show()"
   ]
  }
 ],
 "metadata": {
  "kernelspec": {
   "display_name": "Python 3",
   "language": "python",
   "name": "python3"
  },
  "language_info": {
   "codemirror_mode": {
    "name": "ipython",
    "version": 3
   },
   "file_extension": ".py",
   "mimetype": "text/x-python",
   "name": "python",
   "nbconvert_exporter": "python",
   "pygments_lexer": "ipython3",
   "version": "3.5.2"
  }
 },
 "nbformat": 4,
 "nbformat_minor": 2
}
